{
 "cells": [
  {
   "cell_type": "code",
   "execution_count": 2,
   "id": "initial_id",
   "metadata": {
    "collapsed": true,
    "ExecuteTime": {
     "end_time": "2024-02-29T07:16:51.468735300Z",
     "start_time": "2024-02-29T07:16:50.277213900Z"
    }
   },
   "outputs": [],
   "source": [
    "#Importing all the libraries \n",
    "\n",
    "import pandas as pd \n",
    "import numpy as np\n",
    "import matplotlib.pyplot as plt\n",
    "import seaborn as sns\n",
    "\n",
    "Adastra_Report = pd.read_csv(r\"C:\\Users\\Fredrick.Alli\\Documents\\Full Case Report Data Oct-Jan.csv\")"
   ]
  },
  {
   "cell_type": "code",
   "outputs": [
    {
     "data": {
      "text/plain": "    Case No Operator Who Received Case  \\\n0     93027                        NaN   \n1     93028                        NaN   \n2     93029                        NaN   \n3     93030                   HUSSAINY   \n4     93032                   HUSSAINY   \n5     93031                        NaN   \n6     93033                   HUSSAINY   \n7     93034                        NaN   \n8     93035                   HUSSAINY   \n9     93036                        NaN   \n10    93037                        NaN   \n11    93038                        NaN   \n12    93039                   HUSSAINY   \n13    93040                        NaN   \n14    93041                   HUSSAINY   \n15    93042                        NaN   \n16    93043                        NaN   \n17    93046                        NaN   \n18    93047                        NaN   \n19    93048                        NaN   \n20    93049                        NaN   \n21    93050                        NaN   \n22    93052                        NaN   \n23    93053                        NaN   \n24    93055                        NaN   \n25    93057                        NaN   \n26    93059                        NaN   \n27    93060                   HUSSAINY   \n28    93061                   HUSSAINY   \n\n                                   Reported Condition Receive Time (Badger)  \\\n0                                                 NaN            01/10/2023   \n1                                                 NaN            01/10/2023   \n2                                                 NaN            01/10/2023   \n3   Symptoms: Ref: 0110-585-6324; Site: SOLUTC; Na...            01/10/2023   \n4   Symptoms: Ref: 0110-355-6991; Site: SOLUTC; Na...            01/10/2023   \n5                                                 NaN            01/10/2023   \n6   Symptoms: Ref: 0110-570-2983; Site: ESGUTC; Na...            01/10/2023   \n7                                                 NaN            01/10/2023   \n8   Symptoms: Ref: 0110-532-4340; Site: SOLUTC; Na...            01/10/2023   \n9                                                 NaN            01/10/2023   \n10                                                NaN            01/10/2023   \n11                                                NaN            01/10/2023   \n12  Symptoms: Ref: 0110-670-3075; Site: SOLUTC; Na...            01/10/2023   \n13                                                NaN            01/10/2023   \n14  Symptoms: Ref: 0110-707-0595; Site: SOLUTC; Na...            01/10/2023   \n15                                                NaN            01/10/2023   \n16                                                NaN            01/10/2023   \n17                                                NaN            01/10/2023   \n18                                                NaN            01/10/2023   \n19                                                NaN            01/10/2023   \n20                                                NaN            01/10/2023   \n21                                                NaN            01/10/2023   \n22                                                NaN            01/10/2023   \n23                                                NaN            01/10/2023   \n24                                                NaN            01/10/2023   \n25                                                NaN            01/10/2023   \n26                                                NaN            01/10/2023   \n27  Symptoms: Ref: 0110-055-7365; Site: SOLUTC; Na...            01/10/2023   \n28  Symptoms: Ref: 0110-752-5758; Site: SOLUTC; Na...            01/10/2023   \n\n        Forename       Surname Sex         Dob        Age  \\\n0         Shakir         Afzal   M  27/03/1986   37 years   \n1   Harlan-James        Newman   M  13/12/2022   9 months   \n2         Afshah       Mahmood   F  12/04/1994   29 years   \n3        William     Hutchison   M  17/11/2019    3 years   \n4       Jennifer         Young   F  21/04/1964   59 years   \n5       Muhammad         Aayan   M  26/06/2018    5 years   \n6          Carol      Marriott   F  11/12/1990   32 years   \n7          Zohra          Bibi   F  05/04/1954   69 years   \n8           Abby         Hayes   F  11/05/2001   22 years   \n9           Aria       Hussain   F  12/03/2023   6 months   \n10       Farhana        Yasmin   F  01/02/1997   26 years   \n11      Lorraine     Stockford   F  11/02/1946   77 years   \n12          Rida          Khan   F  11/06/2009   14 years   \n13         Sayed        Gilani   M  21/03/1983   40 years   \n14       Ibrahim         Bilal   M  01/08/2018    5 years   \n15        Daniel  Mbiyi Nswaba   M  08/05/2004   19 years   \n16     Shahanara         Islam   F  11/02/1969   54 years   \n17          Kirk       Bassett   M  04/11/1980   42 years   \n18         Rayan        Sarder   M  06/01/2019    4 years   \n19          Orla       Cassidy   F  22/02/1997   26 years   \n20         Xasan        Xuseen   M  20/07/1983   40 years   \n21         Emefa        Akator   F  04/11/2000   22 years   \n22        Aishah        Bostan   F  16/02/1992   31 years   \n23         Izara       Jikiemi   F  03/03/2004   19 years   \n24       Maureen       Forrest   F  23/04/1936   87 years   \n25        Glenda      Drakeley   F  05/06/1945   78 years   \n26       Innayah        Akther   F  24/08/2021  25 months   \n27          Wren          Corp   F  25/08/2021  25 months   \n28     Charlotte          Page   F  24/05/2022  16 months   \n\n                             Ethnicity  ...                 Case Tag  \\\n0                         Not Recorded  ...                      NaN   \n1                         Not Recorded  ...                      111   \n2                         Not Recorded  ...                      NaN   \n3                         Not Recorded  ...                      NaN   \n4                         Not Recorded  ...                      NaN   \n5                         Not Recorded  ...  111 - Incorrect Mapping   \n6                         Not Recorded  ...                      NaN   \n7                         Not Recorded  ...                      NaN   \n8                         Not Recorded  ...                      NaN   \n9                         Not Recorded  ...                      111   \n10                        Not Recorded  ...                      NaN   \n11                        Not Recorded  ...                      NaN   \n12                        Not Recorded  ...                      NaN   \n13                        Not Recorded  ...                      111   \n14                        Not Recorded  ...                      NaN   \n15                        Not Recorded  ...                      NaN   \n16  Asian or Asian British Bangladeshi  ...                      111   \n17                        Not Recorded  ...                      NaN   \n18                        Not Recorded  ...                      NaN   \n19                        Not Recorded  ...                      NaN   \n20                        Not Recorded  ...                      NaN   \n21                        Not Recorded  ...                      NaN   \n22                        Not Recorded  ...                      NaN   \n23                        Not Recorded  ...                      NaN   \n24                        Not Recorded  ...                      NaN   \n25                        Not Recorded  ...                      NaN   \n26                        Not Recorded  ...                      NaN   \n27                        Not Recorded  ...                      NaN   \n28                        Not Recorded  ...                      NaN   \n\n                              Outcome Mapping DX Code  \\\n0   Outcome mapping initiated (APINHS111, 20001085...   \n1   Outcome mapping initiated (APINHS111, 13203229...   \n2   Outcome mapping initiated (APINHS111, 13203229...   \n3                                                 NaN   \n4                                                 NaN   \n5   Outcome mapping initiated (APINHS111, DEFAULT,...   \n6                                                 NaN   \n7   Outcome mapping initiated (APINHS111, 13203229...   \n8                                                 NaN   \n9   Outcome mapping initiated (APINHS111, 13203229...   \n10  Outcome mapping initiated (APINHS111, 13203229...   \n11  Outcome mapping initiated (APINHS111, DEFAULT,...   \n12                                                NaN   \n13  Outcome mapping initiated (APINHS111, 13203229...   \n14                                                NaN   \n15  Outcome mapping initiated (APINHS111, 13203229...   \n16  Outcome mapping initiated (APINHS111, 20001085...   \n17  Outcome mapping initiated (APINHS111, 13203229...   \n18  Outcome mapping initiated (APINHS111, 13203229...   \n19  Outcome mapping initiated (APINHS111, 13203229...   \n20  Outcome mapping initiated (APINHS111, 13203229...   \n21  Outcome mapping initiated (APINHS111, 13203229...   \n22  Outcome mapping initiated (APINHS111, 20001085...   \n23  Outcome mapping initiated (APINHS111, 13203229...   \n24  Outcome mapping initiated (APINHS111, 13203229...   \n25  Outcome mapping initiated (APINHS111, 13203229...   \n26  Outcome mapping initiated (APINHS111, 13203229...   \n27                                                NaN   \n28                                                NaN   \n\n   2nd Consultation Start Date Time 2nd Consultation End Date Time  \\\n0                               NaN                            NaN   \n1                               NaN                            NaN   \n2                               NaN                            NaN   \n3                               NaN                            NaN   \n4                               NaN                            NaN   \n5                               NaN                            NaN   \n6                               NaN                            NaN   \n7                               NaN                            NaN   \n8                               NaN                            NaN   \n9                               NaN                            NaN   \n10                              NaN                            NaN   \n11                              NaN                            NaN   \n12                              NaN                            NaN   \n13                              NaN                            NaN   \n14                              NaN                            NaN   \n15                              NaN                            NaN   \n16                              NaN                            NaN   \n17                              NaN                            NaN   \n18                              NaN                            NaN   \n19                              NaN                            NaN   \n20                              NaN                            NaN   \n21                              NaN                            NaN   \n22                              NaN                            NaN   \n23                              NaN                            NaN   \n24                              NaN                            NaN   \n25                              NaN                            NaN   \n26                              NaN                            NaN   \n27                              NaN                            NaN   \n28                              NaN                            NaN   \n\n   Clinician Name                                      Received From    Site  \\\n0             NaN                         NHS Digital Message Engine   YDDF4   \n1             NaN    DHU - Orbis Building (Derbyshire Health United)  Y00869   \n2             NaN     DHU - Ashgate Manor (Derbyshire Health United)  Y00869   \n3             NaN                                                NaN     NaN   \n4             NaN                                                NaN     NaN   \n5             NaN  DHU - Birchfield House - Oldbury (Derbyshire H...  Y00869   \n6             NaN                                                NaN     NaN   \n7             NaN    DHU - Orbis Building (Derbyshire Health United)  Y00869   \n8             NaN                                                NaN     NaN   \n9             NaN    DHU - Orbis Building (Derbyshire Health United)  Y00869   \n10            NaN  DHU - Birchfield House - Oldbury (Derbyshire H...  Y00869   \n11            NaN  DHU - Birchfield House - Oldbury (Derbyshire H...  Y00869   \n12            NaN                                                NaN     NaN   \n13            NaN     DHU - Ashgate Manor (Derbyshire Health United)  Y00869   \n14            NaN                                                NaN     NaN   \n15            NaN     DHU - Ashgate Manor (Derbyshire Health United)  Y00869   \n16            NaN                         NHS Digital Message Engine   YDDF4   \n17            NaN    DHU - Orbis Building (Derbyshire Health United)  Y00869   \n18            NaN  DHU - Birchfield House - Oldbury (Derbyshire H...  Y00869   \n19            NaN  DHU - Birchfield House - Oldbury (Derbyshire H...  Y00869   \n20            NaN     DHU - Ashgate Manor (Derbyshire Health United)  Y00869   \n21            NaN  DHU - Birchfield House - Oldbury (Derbyshire H...  Y00869   \n22            NaN                         NHS Digital Message Engine   YDDF4   \n23            NaN  DHU - Home Triage Laptop (Derbyshire Health Un...  Y00869   \n24            NaN     DHU - Ashgate Manor (Derbyshire Health United)  Y00869   \n25            NaN     DHU - Ashgate Manor (Derbyshire Health United)  Y00869   \n26            NaN     DHU - Ashgate Manor (Derbyshire Health United)  Y00869   \n27            NaN                                                NaN     NaN   \n28            NaN                                                NaN     NaN   \n\n         Ext Case ID                          Ext Case Ref  \\\n0   111-ONLINE-A9AF1  cbda9146-38ce-452d-93b6-8801b051e946   \n1            6363480  a4a3e07a-3bae-4201-a266-7fc3435ef6d7   \n2            6363492  ecb93938-9e7b-4c7d-a796-3f350c86fbf9   \n3                NaN                                   NaN   \n4                NaN                                   NaN   \n5            6363527  0e31575f-e7d6-4845-a03d-12e07ac40fa5   \n6                NaN                                   NaN   \n7            6363498  3f04af9a-35e2-42c0-a95d-c876a90635aa   \n8                NaN                                   NaN   \n9            6363534  7b6e1427-ff1b-40a0-81f4-4bd0185b3a21   \n10           6363563  0bcb94d8-6f9e-42dd-833c-a94f393ee9eb   \n11           6363590  a3418def-8bae-44a3-b9e4-5c35d78298a9   \n12               NaN                                   NaN   \n13           6363587  e3f1b69f-09d8-4b93-bddf-f1d00b67752c   \n14               NaN                                   NaN   \n15           6363619  75d004ed-cd57-4d00-81dd-fd64431cb88f   \n16  111-ONLINE-ABF84  cc0adc55-24af-4fb1-b3ac-7037511f1367   \n17           6363736  c1e2edd1-af44-44b5-b35c-a7ddb0fb9644   \n18           6363773  d10dae27-8387-4971-8a26-4569778e000d   \n19           6363775  d0767c93-4606-414f-b461-5f00c0e547a0   \n20           6363793  d292fa66-b6ae-4549-a74b-0c45ad9b4732   \n21           6363805  21076a94-832f-40a0-b180-f3d0ffa0d287   \n22  111-ONLINE-6C387  bd4e88cd-9e83-4605-b345-843367bbf5db   \n23           6363705  839aa238-acb4-4a95-b0d1-9a53dcf33891   \n24           6363811  9c746675-ae83-4b70-987f-6aea87fee1d1   \n25           6363838  22949a57-7d21-4c79-afb4-d22c78938dc1   \n26           6363894  f71d7070-2233-4dfc-8e7b-6fac86726428   \n27               NaN                                   NaN   \n28               NaN                                   NaN   \n\n                   UniqueID  \n0          ShakirAfzal31498  \n1   Harlan-JamesNewman44908  \n2        AfshahMahmood34436  \n3     WilliamHutchison43786  \n4        JenniferYoung23488  \n5        MuhammadAayan43277  \n6        CarolMarriott33218  \n7            ZohraBibi19819  \n8            AbbyHayes37022  \n9          AriaHussain44997  \n10       FarhanaYasmin35462  \n11   LorraineStockford16844  \n12            RidaKhan39975  \n13         SayedGilani30396  \n14        IbrahimBilal43313  \n15  DanielMbiyi Nswaba38115  \n16      ShahanaraIslam25245  \n17         KirkBassett29529  \n18         RayanSarder43471  \n19         OrlaCassidy35483  \n20         XasanXuseen30517  \n21         EmefaAkator36834  \n22        AishahBostan33650  \n23        IzaraJikiemi38049  \n24      MaureenForrest13263  \n25      GlendaDrakeley16593  \n26       InnayahAkther44432  \n27            WrenCorp44433  \n28       CharlottePage44705  \n\n[29 rows x 74 columns]",
      "text/html": "<div>\n<style scoped>\n    .dataframe tbody tr th:only-of-type {\n        vertical-align: middle;\n    }\n\n    .dataframe tbody tr th {\n        vertical-align: top;\n    }\n\n    .dataframe thead th {\n        text-align: right;\n    }\n</style>\n<table border=\"1\" class=\"dataframe\">\n  <thead>\n    <tr style=\"text-align: right;\">\n      <th></th>\n      <th>Case No</th>\n      <th>Operator Who Received Case</th>\n      <th>Reported Condition</th>\n      <th>Receive Time (Badger)</th>\n      <th>Forename</th>\n      <th>Surname</th>\n      <th>Sex</th>\n      <th>Dob</th>\n      <th>Age</th>\n      <th>Ethnicity</th>\n      <th>...</th>\n      <th>Case Tag</th>\n      <th>Outcome Mapping DX Code</th>\n      <th>2nd Consultation Start Date Time</th>\n      <th>2nd Consultation End Date Time</th>\n      <th>Clinician Name</th>\n      <th>Received From</th>\n      <th>Site</th>\n      <th>Ext Case ID</th>\n      <th>Ext Case Ref</th>\n      <th>UniqueID</th>\n    </tr>\n  </thead>\n  <tbody>\n    <tr>\n      <th>0</th>\n      <td>93027</td>\n      <td>NaN</td>\n      <td>NaN</td>\n      <td>01/10/2023</td>\n      <td>Shakir</td>\n      <td>Afzal</td>\n      <td>M</td>\n      <td>27/03/1986</td>\n      <td>37 years</td>\n      <td>Not Recorded</td>\n      <td>...</td>\n      <td>NaN</td>\n      <td>Outcome mapping initiated (APINHS111, 20001085...</td>\n      <td>NaN</td>\n      <td>NaN</td>\n      <td>NaN</td>\n      <td>NHS Digital Message Engine</td>\n      <td>YDDF4</td>\n      <td>111-ONLINE-A9AF1</td>\n      <td>cbda9146-38ce-452d-93b6-8801b051e946</td>\n      <td>ShakirAfzal31498</td>\n    </tr>\n    <tr>\n      <th>1</th>\n      <td>93028</td>\n      <td>NaN</td>\n      <td>NaN</td>\n      <td>01/10/2023</td>\n      <td>Harlan-James</td>\n      <td>Newman</td>\n      <td>M</td>\n      <td>13/12/2022</td>\n      <td>9 months</td>\n      <td>Not Recorded</td>\n      <td>...</td>\n      <td>111</td>\n      <td>Outcome mapping initiated (APINHS111, 13203229...</td>\n      <td>NaN</td>\n      <td>NaN</td>\n      <td>NaN</td>\n      <td>DHU - Orbis Building (Derbyshire Health United)</td>\n      <td>Y00869</td>\n      <td>6363480</td>\n      <td>a4a3e07a-3bae-4201-a266-7fc3435ef6d7</td>\n      <td>Harlan-JamesNewman44908</td>\n    </tr>\n    <tr>\n      <th>2</th>\n      <td>93029</td>\n      <td>NaN</td>\n      <td>NaN</td>\n      <td>01/10/2023</td>\n      <td>Afshah</td>\n      <td>Mahmood</td>\n      <td>F</td>\n      <td>12/04/1994</td>\n      <td>29 years</td>\n      <td>Not Recorded</td>\n      <td>...</td>\n      <td>NaN</td>\n      <td>Outcome mapping initiated (APINHS111, 13203229...</td>\n      <td>NaN</td>\n      <td>NaN</td>\n      <td>NaN</td>\n      <td>DHU - Ashgate Manor (Derbyshire Health United)</td>\n      <td>Y00869</td>\n      <td>6363492</td>\n      <td>ecb93938-9e7b-4c7d-a796-3f350c86fbf9</td>\n      <td>AfshahMahmood34436</td>\n    </tr>\n    <tr>\n      <th>3</th>\n      <td>93030</td>\n      <td>HUSSAINY</td>\n      <td>Symptoms: Ref: 0110-585-6324; Site: SOLUTC; Na...</td>\n      <td>01/10/2023</td>\n      <td>William</td>\n      <td>Hutchison</td>\n      <td>M</td>\n      <td>17/11/2019</td>\n      <td>3 years</td>\n      <td>Not Recorded</td>\n      <td>...</td>\n      <td>NaN</td>\n      <td>NaN</td>\n      <td>NaN</td>\n      <td>NaN</td>\n      <td>NaN</td>\n      <td>NaN</td>\n      <td>NaN</td>\n      <td>NaN</td>\n      <td>NaN</td>\n      <td>WilliamHutchison43786</td>\n    </tr>\n    <tr>\n      <th>4</th>\n      <td>93032</td>\n      <td>HUSSAINY</td>\n      <td>Symptoms: Ref: 0110-355-6991; Site: SOLUTC; Na...</td>\n      <td>01/10/2023</td>\n      <td>Jennifer</td>\n      <td>Young</td>\n      <td>F</td>\n      <td>21/04/1964</td>\n      <td>59 years</td>\n      <td>Not Recorded</td>\n      <td>...</td>\n      <td>NaN</td>\n      <td>NaN</td>\n      <td>NaN</td>\n      <td>NaN</td>\n      <td>NaN</td>\n      <td>NaN</td>\n      <td>NaN</td>\n      <td>NaN</td>\n      <td>NaN</td>\n      <td>JenniferYoung23488</td>\n    </tr>\n    <tr>\n      <th>5</th>\n      <td>93031</td>\n      <td>NaN</td>\n      <td>NaN</td>\n      <td>01/10/2023</td>\n      <td>Muhammad</td>\n      <td>Aayan</td>\n      <td>M</td>\n      <td>26/06/2018</td>\n      <td>5 years</td>\n      <td>Not Recorded</td>\n      <td>...</td>\n      <td>111 - Incorrect Mapping</td>\n      <td>Outcome mapping initiated (APINHS111, DEFAULT,...</td>\n      <td>NaN</td>\n      <td>NaN</td>\n      <td>NaN</td>\n      <td>DHU - Birchfield House - Oldbury (Derbyshire H...</td>\n      <td>Y00869</td>\n      <td>6363527</td>\n      <td>0e31575f-e7d6-4845-a03d-12e07ac40fa5</td>\n      <td>MuhammadAayan43277</td>\n    </tr>\n    <tr>\n      <th>6</th>\n      <td>93033</td>\n      <td>HUSSAINY</td>\n      <td>Symptoms: Ref: 0110-570-2983; Site: ESGUTC; Na...</td>\n      <td>01/10/2023</td>\n      <td>Carol</td>\n      <td>Marriott</td>\n      <td>F</td>\n      <td>11/12/1990</td>\n      <td>32 years</td>\n      <td>Not Recorded</td>\n      <td>...</td>\n      <td>NaN</td>\n      <td>NaN</td>\n      <td>NaN</td>\n      <td>NaN</td>\n      <td>NaN</td>\n      <td>NaN</td>\n      <td>NaN</td>\n      <td>NaN</td>\n      <td>NaN</td>\n      <td>CarolMarriott33218</td>\n    </tr>\n    <tr>\n      <th>7</th>\n      <td>93034</td>\n      <td>NaN</td>\n      <td>NaN</td>\n      <td>01/10/2023</td>\n      <td>Zohra</td>\n      <td>Bibi</td>\n      <td>F</td>\n      <td>05/04/1954</td>\n      <td>69 years</td>\n      <td>Not Recorded</td>\n      <td>...</td>\n      <td>NaN</td>\n      <td>Outcome mapping initiated (APINHS111, 13203229...</td>\n      <td>NaN</td>\n      <td>NaN</td>\n      <td>NaN</td>\n      <td>DHU - Orbis Building (Derbyshire Health United)</td>\n      <td>Y00869</td>\n      <td>6363498</td>\n      <td>3f04af9a-35e2-42c0-a95d-c876a90635aa</td>\n      <td>ZohraBibi19819</td>\n    </tr>\n    <tr>\n      <th>8</th>\n      <td>93035</td>\n      <td>HUSSAINY</td>\n      <td>Symptoms: Ref: 0110-532-4340; Site: SOLUTC; Na...</td>\n      <td>01/10/2023</td>\n      <td>Abby</td>\n      <td>Hayes</td>\n      <td>F</td>\n      <td>11/05/2001</td>\n      <td>22 years</td>\n      <td>Not Recorded</td>\n      <td>...</td>\n      <td>NaN</td>\n      <td>NaN</td>\n      <td>NaN</td>\n      <td>NaN</td>\n      <td>NaN</td>\n      <td>NaN</td>\n      <td>NaN</td>\n      <td>NaN</td>\n      <td>NaN</td>\n      <td>AbbyHayes37022</td>\n    </tr>\n    <tr>\n      <th>9</th>\n      <td>93036</td>\n      <td>NaN</td>\n      <td>NaN</td>\n      <td>01/10/2023</td>\n      <td>Aria</td>\n      <td>Hussain</td>\n      <td>F</td>\n      <td>12/03/2023</td>\n      <td>6 months</td>\n      <td>Not Recorded</td>\n      <td>...</td>\n      <td>111</td>\n      <td>Outcome mapping initiated (APINHS111, 13203229...</td>\n      <td>NaN</td>\n      <td>NaN</td>\n      <td>NaN</td>\n      <td>DHU - Orbis Building (Derbyshire Health United)</td>\n      <td>Y00869</td>\n      <td>6363534</td>\n      <td>7b6e1427-ff1b-40a0-81f4-4bd0185b3a21</td>\n      <td>AriaHussain44997</td>\n    </tr>\n    <tr>\n      <th>10</th>\n      <td>93037</td>\n      <td>NaN</td>\n      <td>NaN</td>\n      <td>01/10/2023</td>\n      <td>Farhana</td>\n      <td>Yasmin</td>\n      <td>F</td>\n      <td>01/02/1997</td>\n      <td>26 years</td>\n      <td>Not Recorded</td>\n      <td>...</td>\n      <td>NaN</td>\n      <td>Outcome mapping initiated (APINHS111, 13203229...</td>\n      <td>NaN</td>\n      <td>NaN</td>\n      <td>NaN</td>\n      <td>DHU - Birchfield House - Oldbury (Derbyshire H...</td>\n      <td>Y00869</td>\n      <td>6363563</td>\n      <td>0bcb94d8-6f9e-42dd-833c-a94f393ee9eb</td>\n      <td>FarhanaYasmin35462</td>\n    </tr>\n    <tr>\n      <th>11</th>\n      <td>93038</td>\n      <td>NaN</td>\n      <td>NaN</td>\n      <td>01/10/2023</td>\n      <td>Lorraine</td>\n      <td>Stockford</td>\n      <td>F</td>\n      <td>11/02/1946</td>\n      <td>77 years</td>\n      <td>Not Recorded</td>\n      <td>...</td>\n      <td>NaN</td>\n      <td>Outcome mapping initiated (APINHS111, DEFAULT,...</td>\n      <td>NaN</td>\n      <td>NaN</td>\n      <td>NaN</td>\n      <td>DHU - Birchfield House - Oldbury (Derbyshire H...</td>\n      <td>Y00869</td>\n      <td>6363590</td>\n      <td>a3418def-8bae-44a3-b9e4-5c35d78298a9</td>\n      <td>LorraineStockford16844</td>\n    </tr>\n    <tr>\n      <th>12</th>\n      <td>93039</td>\n      <td>HUSSAINY</td>\n      <td>Symptoms: Ref: 0110-670-3075; Site: SOLUTC; Na...</td>\n      <td>01/10/2023</td>\n      <td>Rida</td>\n      <td>Khan</td>\n      <td>F</td>\n      <td>11/06/2009</td>\n      <td>14 years</td>\n      <td>Not Recorded</td>\n      <td>...</td>\n      <td>NaN</td>\n      <td>NaN</td>\n      <td>NaN</td>\n      <td>NaN</td>\n      <td>NaN</td>\n      <td>NaN</td>\n      <td>NaN</td>\n      <td>NaN</td>\n      <td>NaN</td>\n      <td>RidaKhan39975</td>\n    </tr>\n    <tr>\n      <th>13</th>\n      <td>93040</td>\n      <td>NaN</td>\n      <td>NaN</td>\n      <td>01/10/2023</td>\n      <td>Sayed</td>\n      <td>Gilani</td>\n      <td>M</td>\n      <td>21/03/1983</td>\n      <td>40 years</td>\n      <td>Not Recorded</td>\n      <td>...</td>\n      <td>111</td>\n      <td>Outcome mapping initiated (APINHS111, 13203229...</td>\n      <td>NaN</td>\n      <td>NaN</td>\n      <td>NaN</td>\n      <td>DHU - Ashgate Manor (Derbyshire Health United)</td>\n      <td>Y00869</td>\n      <td>6363587</td>\n      <td>e3f1b69f-09d8-4b93-bddf-f1d00b67752c</td>\n      <td>SayedGilani30396</td>\n    </tr>\n    <tr>\n      <th>14</th>\n      <td>93041</td>\n      <td>HUSSAINY</td>\n      <td>Symptoms: Ref: 0110-707-0595; Site: SOLUTC; Na...</td>\n      <td>01/10/2023</td>\n      <td>Ibrahim</td>\n      <td>Bilal</td>\n      <td>M</td>\n      <td>01/08/2018</td>\n      <td>5 years</td>\n      <td>Not Recorded</td>\n      <td>...</td>\n      <td>NaN</td>\n      <td>NaN</td>\n      <td>NaN</td>\n      <td>NaN</td>\n      <td>NaN</td>\n      <td>NaN</td>\n      <td>NaN</td>\n      <td>NaN</td>\n      <td>NaN</td>\n      <td>IbrahimBilal43313</td>\n    </tr>\n    <tr>\n      <th>15</th>\n      <td>93042</td>\n      <td>NaN</td>\n      <td>NaN</td>\n      <td>01/10/2023</td>\n      <td>Daniel</td>\n      <td>Mbiyi Nswaba</td>\n      <td>M</td>\n      <td>08/05/2004</td>\n      <td>19 years</td>\n      <td>Not Recorded</td>\n      <td>...</td>\n      <td>NaN</td>\n      <td>Outcome mapping initiated (APINHS111, 13203229...</td>\n      <td>NaN</td>\n      <td>NaN</td>\n      <td>NaN</td>\n      <td>DHU - Ashgate Manor (Derbyshire Health United)</td>\n      <td>Y00869</td>\n      <td>6363619</td>\n      <td>75d004ed-cd57-4d00-81dd-fd64431cb88f</td>\n      <td>DanielMbiyi Nswaba38115</td>\n    </tr>\n    <tr>\n      <th>16</th>\n      <td>93043</td>\n      <td>NaN</td>\n      <td>NaN</td>\n      <td>01/10/2023</td>\n      <td>Shahanara</td>\n      <td>Islam</td>\n      <td>F</td>\n      <td>11/02/1969</td>\n      <td>54 years</td>\n      <td>Asian or Asian British Bangladeshi</td>\n      <td>...</td>\n      <td>111</td>\n      <td>Outcome mapping initiated (APINHS111, 20001085...</td>\n      <td>NaN</td>\n      <td>NaN</td>\n      <td>NaN</td>\n      <td>NHS Digital Message Engine</td>\n      <td>YDDF4</td>\n      <td>111-ONLINE-ABF84</td>\n      <td>cc0adc55-24af-4fb1-b3ac-7037511f1367</td>\n      <td>ShahanaraIslam25245</td>\n    </tr>\n    <tr>\n      <th>17</th>\n      <td>93046</td>\n      <td>NaN</td>\n      <td>NaN</td>\n      <td>01/10/2023</td>\n      <td>Kirk</td>\n      <td>Bassett</td>\n      <td>M</td>\n      <td>04/11/1980</td>\n      <td>42 years</td>\n      <td>Not Recorded</td>\n      <td>...</td>\n      <td>NaN</td>\n      <td>Outcome mapping initiated (APINHS111, 13203229...</td>\n      <td>NaN</td>\n      <td>NaN</td>\n      <td>NaN</td>\n      <td>DHU - Orbis Building (Derbyshire Health United)</td>\n      <td>Y00869</td>\n      <td>6363736</td>\n      <td>c1e2edd1-af44-44b5-b35c-a7ddb0fb9644</td>\n      <td>KirkBassett29529</td>\n    </tr>\n    <tr>\n      <th>18</th>\n      <td>93047</td>\n      <td>NaN</td>\n      <td>NaN</td>\n      <td>01/10/2023</td>\n      <td>Rayan</td>\n      <td>Sarder</td>\n      <td>M</td>\n      <td>06/01/2019</td>\n      <td>4 years</td>\n      <td>Not Recorded</td>\n      <td>...</td>\n      <td>NaN</td>\n      <td>Outcome mapping initiated (APINHS111, 13203229...</td>\n      <td>NaN</td>\n      <td>NaN</td>\n      <td>NaN</td>\n      <td>DHU - Birchfield House - Oldbury (Derbyshire H...</td>\n      <td>Y00869</td>\n      <td>6363773</td>\n      <td>d10dae27-8387-4971-8a26-4569778e000d</td>\n      <td>RayanSarder43471</td>\n    </tr>\n    <tr>\n      <th>19</th>\n      <td>93048</td>\n      <td>NaN</td>\n      <td>NaN</td>\n      <td>01/10/2023</td>\n      <td>Orla</td>\n      <td>Cassidy</td>\n      <td>F</td>\n      <td>22/02/1997</td>\n      <td>26 years</td>\n      <td>Not Recorded</td>\n      <td>...</td>\n      <td>NaN</td>\n      <td>Outcome mapping initiated (APINHS111, 13203229...</td>\n      <td>NaN</td>\n      <td>NaN</td>\n      <td>NaN</td>\n      <td>DHU - Birchfield House - Oldbury (Derbyshire H...</td>\n      <td>Y00869</td>\n      <td>6363775</td>\n      <td>d0767c93-4606-414f-b461-5f00c0e547a0</td>\n      <td>OrlaCassidy35483</td>\n    </tr>\n    <tr>\n      <th>20</th>\n      <td>93049</td>\n      <td>NaN</td>\n      <td>NaN</td>\n      <td>01/10/2023</td>\n      <td>Xasan</td>\n      <td>Xuseen</td>\n      <td>M</td>\n      <td>20/07/1983</td>\n      <td>40 years</td>\n      <td>Not Recorded</td>\n      <td>...</td>\n      <td>NaN</td>\n      <td>Outcome mapping initiated (APINHS111, 13203229...</td>\n      <td>NaN</td>\n      <td>NaN</td>\n      <td>NaN</td>\n      <td>DHU - Ashgate Manor (Derbyshire Health United)</td>\n      <td>Y00869</td>\n      <td>6363793</td>\n      <td>d292fa66-b6ae-4549-a74b-0c45ad9b4732</td>\n      <td>XasanXuseen30517</td>\n    </tr>\n    <tr>\n      <th>21</th>\n      <td>93050</td>\n      <td>NaN</td>\n      <td>NaN</td>\n      <td>01/10/2023</td>\n      <td>Emefa</td>\n      <td>Akator</td>\n      <td>F</td>\n      <td>04/11/2000</td>\n      <td>22 years</td>\n      <td>Not Recorded</td>\n      <td>...</td>\n      <td>NaN</td>\n      <td>Outcome mapping initiated (APINHS111, 13203229...</td>\n      <td>NaN</td>\n      <td>NaN</td>\n      <td>NaN</td>\n      <td>DHU - Birchfield House - Oldbury (Derbyshire H...</td>\n      <td>Y00869</td>\n      <td>6363805</td>\n      <td>21076a94-832f-40a0-b180-f3d0ffa0d287</td>\n      <td>EmefaAkator36834</td>\n    </tr>\n    <tr>\n      <th>22</th>\n      <td>93052</td>\n      <td>NaN</td>\n      <td>NaN</td>\n      <td>01/10/2023</td>\n      <td>Aishah</td>\n      <td>Bostan</td>\n      <td>F</td>\n      <td>16/02/1992</td>\n      <td>31 years</td>\n      <td>Not Recorded</td>\n      <td>...</td>\n      <td>NaN</td>\n      <td>Outcome mapping initiated (APINHS111, 20001085...</td>\n      <td>NaN</td>\n      <td>NaN</td>\n      <td>NaN</td>\n      <td>NHS Digital Message Engine</td>\n      <td>YDDF4</td>\n      <td>111-ONLINE-6C387</td>\n      <td>bd4e88cd-9e83-4605-b345-843367bbf5db</td>\n      <td>AishahBostan33650</td>\n    </tr>\n    <tr>\n      <th>23</th>\n      <td>93053</td>\n      <td>NaN</td>\n      <td>NaN</td>\n      <td>01/10/2023</td>\n      <td>Izara</td>\n      <td>Jikiemi</td>\n      <td>F</td>\n      <td>03/03/2004</td>\n      <td>19 years</td>\n      <td>Not Recorded</td>\n      <td>...</td>\n      <td>NaN</td>\n      <td>Outcome mapping initiated (APINHS111, 13203229...</td>\n      <td>NaN</td>\n      <td>NaN</td>\n      <td>NaN</td>\n      <td>DHU - Home Triage Laptop (Derbyshire Health Un...</td>\n      <td>Y00869</td>\n      <td>6363705</td>\n      <td>839aa238-acb4-4a95-b0d1-9a53dcf33891</td>\n      <td>IzaraJikiemi38049</td>\n    </tr>\n    <tr>\n      <th>24</th>\n      <td>93055</td>\n      <td>NaN</td>\n      <td>NaN</td>\n      <td>01/10/2023</td>\n      <td>Maureen</td>\n      <td>Forrest</td>\n      <td>F</td>\n      <td>23/04/1936</td>\n      <td>87 years</td>\n      <td>Not Recorded</td>\n      <td>...</td>\n      <td>NaN</td>\n      <td>Outcome mapping initiated (APINHS111, 13203229...</td>\n      <td>NaN</td>\n      <td>NaN</td>\n      <td>NaN</td>\n      <td>DHU - Ashgate Manor (Derbyshire Health United)</td>\n      <td>Y00869</td>\n      <td>6363811</td>\n      <td>9c746675-ae83-4b70-987f-6aea87fee1d1</td>\n      <td>MaureenForrest13263</td>\n    </tr>\n    <tr>\n      <th>25</th>\n      <td>93057</td>\n      <td>NaN</td>\n      <td>NaN</td>\n      <td>01/10/2023</td>\n      <td>Glenda</td>\n      <td>Drakeley</td>\n      <td>F</td>\n      <td>05/06/1945</td>\n      <td>78 years</td>\n      <td>Not Recorded</td>\n      <td>...</td>\n      <td>NaN</td>\n      <td>Outcome mapping initiated (APINHS111, 13203229...</td>\n      <td>NaN</td>\n      <td>NaN</td>\n      <td>NaN</td>\n      <td>DHU - Ashgate Manor (Derbyshire Health United)</td>\n      <td>Y00869</td>\n      <td>6363838</td>\n      <td>22949a57-7d21-4c79-afb4-d22c78938dc1</td>\n      <td>GlendaDrakeley16593</td>\n    </tr>\n    <tr>\n      <th>26</th>\n      <td>93059</td>\n      <td>NaN</td>\n      <td>NaN</td>\n      <td>01/10/2023</td>\n      <td>Innayah</td>\n      <td>Akther</td>\n      <td>F</td>\n      <td>24/08/2021</td>\n      <td>25 months</td>\n      <td>Not Recorded</td>\n      <td>...</td>\n      <td>NaN</td>\n      <td>Outcome mapping initiated (APINHS111, 13203229...</td>\n      <td>NaN</td>\n      <td>NaN</td>\n      <td>NaN</td>\n      <td>DHU - Ashgate Manor (Derbyshire Health United)</td>\n      <td>Y00869</td>\n      <td>6363894</td>\n      <td>f71d7070-2233-4dfc-8e7b-6fac86726428</td>\n      <td>InnayahAkther44432</td>\n    </tr>\n    <tr>\n      <th>27</th>\n      <td>93060</td>\n      <td>HUSSAINY</td>\n      <td>Symptoms: Ref: 0110-055-7365; Site: SOLUTC; Na...</td>\n      <td>01/10/2023</td>\n      <td>Wren</td>\n      <td>Corp</td>\n      <td>F</td>\n      <td>25/08/2021</td>\n      <td>25 months</td>\n      <td>Not Recorded</td>\n      <td>...</td>\n      <td>NaN</td>\n      <td>NaN</td>\n      <td>NaN</td>\n      <td>NaN</td>\n      <td>NaN</td>\n      <td>NaN</td>\n      <td>NaN</td>\n      <td>NaN</td>\n      <td>NaN</td>\n      <td>WrenCorp44433</td>\n    </tr>\n    <tr>\n      <th>28</th>\n      <td>93061</td>\n      <td>HUSSAINY</td>\n      <td>Symptoms: Ref: 0110-752-5758; Site: SOLUTC; Na...</td>\n      <td>01/10/2023</td>\n      <td>Charlotte</td>\n      <td>Page</td>\n      <td>F</td>\n      <td>24/05/2022</td>\n      <td>16 months</td>\n      <td>Not Recorded</td>\n      <td>...</td>\n      <td>NaN</td>\n      <td>NaN</td>\n      <td>NaN</td>\n      <td>NaN</td>\n      <td>NaN</td>\n      <td>NaN</td>\n      <td>NaN</td>\n      <td>NaN</td>\n      <td>NaN</td>\n      <td>CharlottePage44705</td>\n    </tr>\n  </tbody>\n</table>\n<p>29 rows × 74 columns</p>\n</div>"
     },
     "execution_count": 3,
     "metadata": {},
     "output_type": "execute_result"
    }
   ],
   "source": [
    "Adastra_Report.head(29)"
   ],
   "metadata": {
    "collapsed": false,
    "ExecuteTime": {
     "end_time": "2024-02-29T07:16:52.336374300Z",
     "start_time": "2024-02-29T07:16:52.290900600Z"
    }
   },
   "id": "2353a49d7719ce7d",
   "execution_count": 3
  },
  {
   "cell_type": "code",
   "outputs": [
    {
     "data": {
      "text/plain": "Index(['Case No', 'Operator Who Received Case', 'Reported Condition',\n       'Receive Time (Badger)', 'Forename', 'Surname', 'Sex', 'Dob', 'Age',\n       'Ethnicity', 'Address Line1', 'Address Line2', 'Address Line3',\n       'Postcode', 'Home Phone', 'Current Address Line1',\n       'Current Address Line2', 'Current Address Line3', 'Current Postcode',\n       'Return Phone No', 'Clinicians Name', 'Provider Group', 'PG Code',\n       'Call Origin', 'Caller Name', 'Caller Phone', 'Initial Case Type',\n       'Final Case Type', 'Reception Priority', 'Priority After Assessment',\n       'Latest Priority', 'Location Name', 'Comfort Call', 'Booked Date',\n       'PCC Arrival', 'Despatch Time', 'Doctor Arrived',\n       'Initial Case Rec Time', '1st Cons Summary', '1st Cons History',\n       '1st Cons Examination', '1st Cons Diagnosis', '1st Cons Treatment',\n       '1st Cons Began Time', '1st Cons End Time', '1st Cons Clinicians Name',\n       '1st Cons Prov Type', 'Last Cons Summary', 'Last Cons History',\n       'Last Cons Examination', 'Last Cons Diagnosis', 'Last Cons Treatment',\n       'Last Cons Begin Time', 'Last Cons End Time',\n       'Last Cons Clinicians Name', 'Last Cons Prov Type', 'Clinical Codes',\n       'Examination Details', 'Prescriptions', 'Followup With Comments',\n       'NHS Number', 'Externally Received', 'CGU Tag Summary',\n       'Case Tag Description', 'Case Tag', 'Outcome Mapping DX Code',\n       '2nd Consultation Start Date Time', '2nd Consultation End Date Time',\n       'Clinician Name', 'Received From', 'Site', 'Ext Case ID',\n       'Ext Case Ref', 'UniqueID'],\n      dtype='object')"
     },
     "execution_count": 4,
     "metadata": {},
     "output_type": "execute_result"
    }
   ],
   "source": [
    "Adastra_Report.columns"
   ],
   "metadata": {
    "collapsed": false,
    "ExecuteTime": {
     "end_time": "2024-02-29T07:16:55.792659100Z",
     "start_time": "2024-02-29T07:16:55.762076200Z"
    }
   },
   "id": "efc26b9be274a9f2",
   "execution_count": 4
  },
  {
   "cell_type": "markdown",
   "source": [
    "Step 2: After Data Cleaning time for analysis "
   ],
   "metadata": {
    "collapsed": false
   },
   "id": "b6d2bfd5129d271e"
  },
  {
   "cell_type": "code",
   "outputs": [],
   "source": [
    "import pandas as pd \n",
    "import numpy as np \n",
    "import matplotlib.pyplot as plt\n",
    "import sweetviz as sv"
   ],
   "metadata": {
    "collapsed": false,
    "ExecuteTime": {
     "end_time": "2024-03-19T10:16:22.327310300Z",
     "start_time": "2024-03-19T10:16:22.132959900Z"
    }
   },
   "id": "bf6d663bb3a0443d",
   "execution_count": 1
  },
  {
   "cell_type": "code",
   "outputs": [],
   "source": [
    "Data = pd.read_csv(r\"C:\\Users\\Fredrick.Alli\\OneDrive - Badger Medical\\Documents\\Demographic Data\\combined_data.csv\")"
   ],
   "metadata": {
    "collapsed": false,
    "ExecuteTime": {
     "end_time": "2024-03-19T10:16:27.221661600Z",
     "start_time": "2024-03-19T10:16:23.651536900Z"
    }
   },
   "id": "f87c78f973078e31",
   "execution_count": 2
  },
  {
   "cell_type": "code",
   "outputs": [
    {
     "data": {
      "text/plain": "  Operator Who Received Case Reported Condition   \n0               Not recorded       Not recorded  \\\n1               Not recorded       Not recorded   \n2               Not recorded       Not recorded   \n3               Not recorded       Not recorded   \n4               Not recorded       Not recorded   \n\n  Receive Date and Time (Badger) Receive Date (Badger) Receive Time (Badger)   \n0                     01/01/2023            01/01/2023              00:12:19  \\\n1                     01/01/2023            01/01/2023              00:13:09   \n2                     01/01/2023            01/01/2023              00:25:10   \n3                     01/01/2023            01/01/2023              00:28:02   \n4                     01/01/2023            01/01/2023              00:43:50   \n\n  Sex               Dob       Age  Ages in numeric Age Classification  ...   \n0   F  22/05/1965 00:00  57 years            57.00              Adult  ...  \\\n1   F  21/08/1985 00:00  37 years            37.00              Adult  ...   \n2   F  11/11/2022 00:00   7 weeks             0.13               Baby  ...   \n3   F  07/04/1986 00:00  36 years            36.00              Adult  ...   \n4   M  26/04/2001 00:00  21 years            21.00       Young People  ...   \n\n  Last Cons Begin Time Last Cons End Time Last Cons Clinicians Name   \n0         Not recorded       Not recorded              Not recorded  \\\n1         Not recorded       Not recorded              Not recorded   \n2         Not recorded       Not recorded              Not recorded   \n3         Not recorded       Not recorded              Not recorded   \n4         Not recorded       Not recorded              Not recorded   \n\n  Last Cons Prov Type                             Clinical Codes   \n0        Not Recorded     Nz... Musculoskeletal diseases NOS\\r\\n  \\\n1        Not Recorded   ZV6.. [V]Other reasons for encounter\\r\\n   \n2        Not Recorded  Hz... Respiratory System Diseases NOS\\r\\n   \n3        Not Recorded  Hz... Respiratory System Diseases NOS\\r\\n   \n4        Not Recorded    Jz... Digestive System Diseases NOS\\r\\n   \n\n  Examination Details                                      Prescriptions   \n0        Not recorded                                       Not recorded  \\\n1        Not recorded                                       Not recorded   \n2        Not recorded                                       Not recorded   \n3        Not recorded  Clarithromycin 500mg tablets 1 tablet - every ...   \n4        Not recorded                                       Not recorded   \n\n                              Followup With Comments Externally Received   \n0  Advised to call back Badger/111 if necessary -...             NHS 111  \\\n1  Advised to call back Badger/111 if necessary -...             NHS 111   \n2                       Advised To Attend A&E - \\r\\n             NHS 111   \n3                         Prescription Issued - \\r\\n             NHS 111   \n4                       Advised to attend UTC - \\r\\n             NHS 111   \n\n  Case Tag Description  \n0         Not recorded  \n1         Not recorded  \n2         Not recorded  \n3         Not recorded  \n4         Not recorded  \n\n[5 rows x 59 columns]",
      "text/html": "<div>\n<style scoped>\n    .dataframe tbody tr th:only-of-type {\n        vertical-align: middle;\n    }\n\n    .dataframe tbody tr th {\n        vertical-align: top;\n    }\n\n    .dataframe thead th {\n        text-align: right;\n    }\n</style>\n<table border=\"1\" class=\"dataframe\">\n  <thead>\n    <tr style=\"text-align: right;\">\n      <th></th>\n      <th>Operator Who Received Case</th>\n      <th>Reported Condition</th>\n      <th>Receive Date and Time (Badger)</th>\n      <th>Receive Date (Badger)</th>\n      <th>Receive Time (Badger)</th>\n      <th>Sex</th>\n      <th>Dob</th>\n      <th>Age</th>\n      <th>Ages in numeric</th>\n      <th>Age Classification</th>\n      <th>...</th>\n      <th>Last Cons Begin Time</th>\n      <th>Last Cons End Time</th>\n      <th>Last Cons Clinicians Name</th>\n      <th>Last Cons Prov Type</th>\n      <th>Clinical Codes</th>\n      <th>Examination Details</th>\n      <th>Prescriptions</th>\n      <th>Followup With Comments</th>\n      <th>Externally Received</th>\n      <th>Case Tag Description</th>\n    </tr>\n  </thead>\n  <tbody>\n    <tr>\n      <th>0</th>\n      <td>Not recorded</td>\n      <td>Not recorded</td>\n      <td>01/01/2023</td>\n      <td>01/01/2023</td>\n      <td>00:12:19</td>\n      <td>F</td>\n      <td>22/05/1965 00:00</td>\n      <td>57 years</td>\n      <td>57.00</td>\n      <td>Adult</td>\n      <td>...</td>\n      <td>Not recorded</td>\n      <td>Not recorded</td>\n      <td>Not recorded</td>\n      <td>Not Recorded</td>\n      <td>Nz... Musculoskeletal diseases NOS\\r\\n</td>\n      <td>Not recorded</td>\n      <td>Not recorded</td>\n      <td>Advised to call back Badger/111 if necessary -...</td>\n      <td>NHS 111</td>\n      <td>Not recorded</td>\n    </tr>\n    <tr>\n      <th>1</th>\n      <td>Not recorded</td>\n      <td>Not recorded</td>\n      <td>01/01/2023</td>\n      <td>01/01/2023</td>\n      <td>00:13:09</td>\n      <td>F</td>\n      <td>21/08/1985 00:00</td>\n      <td>37 years</td>\n      <td>37.00</td>\n      <td>Adult</td>\n      <td>...</td>\n      <td>Not recorded</td>\n      <td>Not recorded</td>\n      <td>Not recorded</td>\n      <td>Not Recorded</td>\n      <td>ZV6.. [V]Other reasons for encounter\\r\\n</td>\n      <td>Not recorded</td>\n      <td>Not recorded</td>\n      <td>Advised to call back Badger/111 if necessary -...</td>\n      <td>NHS 111</td>\n      <td>Not recorded</td>\n    </tr>\n    <tr>\n      <th>2</th>\n      <td>Not recorded</td>\n      <td>Not recorded</td>\n      <td>01/01/2023</td>\n      <td>01/01/2023</td>\n      <td>00:25:10</td>\n      <td>F</td>\n      <td>11/11/2022 00:00</td>\n      <td>7 weeks</td>\n      <td>0.13</td>\n      <td>Baby</td>\n      <td>...</td>\n      <td>Not recorded</td>\n      <td>Not recorded</td>\n      <td>Not recorded</td>\n      <td>Not Recorded</td>\n      <td>Hz... Respiratory System Diseases NOS\\r\\n</td>\n      <td>Not recorded</td>\n      <td>Not recorded</td>\n      <td>Advised To Attend A&amp;E - \\r\\n</td>\n      <td>NHS 111</td>\n      <td>Not recorded</td>\n    </tr>\n    <tr>\n      <th>3</th>\n      <td>Not recorded</td>\n      <td>Not recorded</td>\n      <td>01/01/2023</td>\n      <td>01/01/2023</td>\n      <td>00:28:02</td>\n      <td>F</td>\n      <td>07/04/1986 00:00</td>\n      <td>36 years</td>\n      <td>36.00</td>\n      <td>Adult</td>\n      <td>...</td>\n      <td>Not recorded</td>\n      <td>Not recorded</td>\n      <td>Not recorded</td>\n      <td>Not Recorded</td>\n      <td>Hz... Respiratory System Diseases NOS\\r\\n</td>\n      <td>Not recorded</td>\n      <td>Clarithromycin 500mg tablets 1 tablet - every ...</td>\n      <td>Prescription Issued - \\r\\n</td>\n      <td>NHS 111</td>\n      <td>Not recorded</td>\n    </tr>\n    <tr>\n      <th>4</th>\n      <td>Not recorded</td>\n      <td>Not recorded</td>\n      <td>01/01/2023</td>\n      <td>01/01/2023</td>\n      <td>00:43:50</td>\n      <td>M</td>\n      <td>26/04/2001 00:00</td>\n      <td>21 years</td>\n      <td>21.00</td>\n      <td>Young People</td>\n      <td>...</td>\n      <td>Not recorded</td>\n      <td>Not recorded</td>\n      <td>Not recorded</td>\n      <td>Not Recorded</td>\n      <td>Jz... Digestive System Diseases NOS\\r\\n</td>\n      <td>Not recorded</td>\n      <td>Not recorded</td>\n      <td>Advised to attend UTC - \\r\\n</td>\n      <td>NHS 111</td>\n      <td>Not recorded</td>\n    </tr>\n  </tbody>\n</table>\n<p>5 rows × 59 columns</p>\n</div>"
     },
     "execution_count": 3,
     "metadata": {},
     "output_type": "execute_result"
    }
   ],
   "source": [
    "Data.head()"
   ],
   "metadata": {
    "collapsed": false,
    "ExecuteTime": {
     "end_time": "2024-03-19T10:16:35.571670Z",
     "start_time": "2024-03-19T10:16:35.535750900Z"
    }
   },
   "id": "afa1fb23edc869eb",
   "execution_count": 3
  },
  {
   "cell_type": "code",
   "outputs": [
    {
     "data": {
      "text/plain": "Operator Who Received Case         object\nReported Condition                 object\nReceive Date and Time (Badger)     object\nReceive Date (Badger)              object\nReceive Time (Badger)              object\nSex                                object\nDob                                object\nAge                                object\nAges in numeric                   float64\nAge Classification                 object\nAddress Line1                      object\nLocation                           object\nPostcode                           object\nProvider Group                     object\nPG Code                            object\nCall Origin                        object\nInitial Case Type                  object\nFinal Case Type                    object\nReception Priority                 object\nLatest Priority                    object\nLocation Name                      object\nComfort Call Date and Time         object\nBooked Date and Time               object\nBooked Date                        object\nBooked Time                        object\nPCC Arrival Date and Time          object\nPCC Arrival Date                   object\nPCC Arrival Time                   object\nInitial Case Rec Date and Time     object\nInitial Case Rec Date              object\nInitial Case Rec Time              object\n1st Cons Summary                   object\n1st Cons History                   object\n1st Cons Examination               object\n1st Cons Diagnosis                 object\n1st Cons Treatment                 object\n1st Cons Began Date and Time       object\n1st Cons Began Date                object\n1st Cons Began Time                object\n1st Cons End Date and Time         object\n1st Cons End Date                  object\n1st Cons End Time                  object\n1st Cons Clinicians Name           object\n1st Cons Prov Type                 object\nLast Cons Summary                  object\nLast Cons History                  object\nLast Cons Examination              object\nLast Cons Diagnosis                object\nLast Cons Treatment                object\nLast Cons Begin Time               object\nLast Cons End Time                 object\nLast Cons Clinicians Name          object\nLast Cons Prov Type                object\nClinical Codes                     object\nExamination Details                object\nPrescriptions                      object\nFollowup With Comments             object\nExternally Received                object\nCase Tag Description               object\ndtype: object"
     },
     "execution_count": 4,
     "metadata": {},
     "output_type": "execute_result"
    }
   ],
   "source": [
    "#To showcase the data types \n",
    "Data.dtypes"
   ],
   "metadata": {
    "collapsed": false,
    "ExecuteTime": {
     "end_time": "2024-03-19T10:17:03.031076400Z",
     "start_time": "2024-03-19T10:17:03.010110200Z"
    }
   },
   "id": "52b672f01a173405",
   "execution_count": 4
  },
  {
   "cell_type": "code",
   "outputs": [
    {
     "data": {
      "text/plain": "Operator Who Received Case        0\nReported Condition                0\nReceive Date and Time (Badger)    0\nReceive Date (Badger)             0\nReceive Time (Badger)             0\nSex                               0\nDob                               0\nAge                               0\nAges in numeric                   0\nAge Classification                0\nAddress Line1                     0\nLocation                          0\nPostcode                          0\nProvider Group                    0\nPG Code                           0\nCall Origin                       0\nInitial Case Type                 0\nFinal Case Type                   0\nReception Priority                0\nLatest Priority                   0\nLocation Name                     0\nComfort Call Date and Time        0\nBooked Date and Time              0\nBooked Date                       0\nBooked Time                       0\nPCC Arrival Date and Time         0\nPCC Arrival Date                  0\nPCC Arrival Time                  0\nInitial Case Rec Date and Time    0\nInitial Case Rec Date             0\nInitial Case Rec Time             0\n1st Cons Summary                  0\n1st Cons History                  0\n1st Cons Examination              0\n1st Cons Diagnosis                0\n1st Cons Treatment                0\n1st Cons Began Date and Time      0\n1st Cons Began Date               0\n1st Cons Began Time               0\n1st Cons End Date and Time        0\n1st Cons End Date                 0\n1st Cons End Time                 0\n1st Cons Clinicians Name          0\n1st Cons Prov Type                0\nLast Cons Summary                 0\nLast Cons History                 0\nLast Cons Examination             0\nLast Cons Diagnosis               0\nLast Cons Treatment               0\nLast Cons Begin Time              0\nLast Cons End Time                0\nLast Cons Clinicians Name         0\nLast Cons Prov Type               0\nClinical Codes                    0\nExamination Details               0\nPrescriptions                     0\nFollowup With Comments            0\nExternally Received               0\nCase Tag Description              0\ndtype: int64"
     },
     "execution_count": 5,
     "metadata": {},
     "output_type": "execute_result"
    }
   ],
   "source": [
    "#To check if there is any empty rows in each columns\n",
    "Data.isnull().sum()"
   ],
   "metadata": {
    "collapsed": false,
    "ExecuteTime": {
     "end_time": "2024-03-19T10:17:08.238449300Z",
     "start_time": "2024-03-19T10:17:08.051073200Z"
    }
   },
   "id": "a1a7efd4a5a76970",
   "execution_count": 5
  },
  {
   "cell_type": "code",
   "outputs": [
    {
     "data": {
      "text/plain": "26"
     },
     "execution_count": 6,
     "metadata": {},
     "output_type": "execute_result"
    }
   ],
   "source": [
    "#To check if there is duplicate values\n",
    "Data.duplicated().sum()"
   ],
   "metadata": {
    "collapsed": false,
    "ExecuteTime": {
     "end_time": "2024-03-19T10:17:14.281729700Z",
     "start_time": "2024-03-19T10:17:12.934216500Z"
    }
   },
   "id": "96a269a8a0a7ddab",
   "execution_count": 6
  },
  {
   "cell_type": "code",
   "outputs": [
    {
     "data": {
      "text/plain": "                                             |          | [  0%]   00:00 -> (? left)",
      "application/vnd.jupyter.widget-view+json": {
       "version_major": 2,
       "version_minor": 0,
       "model_id": "a9b9dd91b90a4bd184bc0ce66584d2a7"
      }
     },
     "metadata": {},
     "output_type": "display_data"
    },
    {
     "name": "stdout",
     "output_type": "stream",
     "text": [
      "Report C:\\Users\\Fredrick.Alli\\OneDrive - Badger Medical\\Documents\\Demographic Data\\Demographic_Analysis.html was generated! NOTEBOOK/COLAB USERS: the web browser MAY not pop up, regardless, the report IS saved in your notebook/colab files.\n"
     ]
    }
   ],
   "source": [
    "\n",
    "# Analyze the dataset\n",
    "data = sv.analyze(Data)\n",
    "\n",
    "# Specify the path where you have write permissions\n",
    "\n",
    "report_path = r\"C:\\Users\\Fredrick.Alli\\OneDrive - Badger Medical\\Documents\\Demographic Data\\Demographic_Analysis.html\"\n",
    "\n",
    "# Save the report to the specified path\n",
    "data.show_html(report_path)"
   ],
   "metadata": {
    "collapsed": false,
    "ExecuteTime": {
     "end_time": "2024-03-19T10:17:45.942584900Z",
     "start_time": "2024-03-19T10:17:22.083234900Z"
    }
   },
   "id": "839d79328d3330e6",
   "execution_count": 7
  },
  {
   "cell_type": "code",
   "outputs": [],
   "source": [],
   "metadata": {
    "collapsed": false
   },
   "id": "58f4cd515fa24b18"
  }
 ],
 "metadata": {
  "kernelspec": {
   "display_name": "Python 3",
   "language": "python",
   "name": "python3"
  },
  "language_info": {
   "codemirror_mode": {
    "name": "ipython",
    "version": 2
   },
   "file_extension": ".py",
   "mimetype": "text/x-python",
   "name": "python",
   "nbconvert_exporter": "python",
   "pygments_lexer": "ipython2",
   "version": "2.7.6"
  }
 },
 "nbformat": 4,
 "nbformat_minor": 5
}
