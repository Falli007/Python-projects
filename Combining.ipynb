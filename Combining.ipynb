{
 "cells": [
  {
   "cell_type": "code",
   "execution_count": 1,
   "id": "initial_id",
   "metadata": {
    "collapsed": true,
    "ExecuteTime": {
     "end_time": "2024-02-13T13:48:36.107380200Z",
     "start_time": "2024-02-13T13:48:36.092806400Z"
    }
   },
   "outputs": [],
   "source": [
    "#Importing all the libraries \n",
    "\n",
    "import pandas as pd \n",
    "import numpy as np\n",
    "import matplotlib.pyplot as plt\n",
    "import seaborn as sns"
   ]
  },
  {
   "cell_type": "code",
   "outputs": [],
   "source": [
    "#Calling all the CSV files \n",
    "\n",
    "Jan1_24 = pd.read_csv(r\"C:\\Users\\Fredrick.Alli\\Documents\\Jan24.csv\")\n",
    "\n",
    "Jan2_24 = pd.read_csv(r\"C:\\Users\\Fredrick.Alli\\Documents\\Jan242.csv\")"
   ],
   "metadata": {
    "collapsed": false,
    "ExecuteTime": {
     "end_time": "2024-02-13T13:53:28.094550600Z",
     "start_time": "2024-02-13T13:53:28.039904200Z"
    }
   },
   "id": "5c808e8e87d2f384",
   "execution_count": 7
  },
  {
   "cell_type": "markdown",
   "source": [
    "Using Union all/Concat Jan1_24 and Jan2_24"
   ],
   "metadata": {
    "collapsed": false
   },
   "id": "dd5bec34f87d90f2"
  },
  {
   "cell_type": "code",
   "outputs": [
    {
     "name": "stdout",
     "output_type": "stream",
     "text": [
      "A: (2179, 24)\n",
      "B: (8792, 24)\n",
      "The number of rows for the combined table is: 10971\n"
     ]
    }
   ],
   "source": [
    "#setting the max rows \n",
    "pd.set_option('display.max_columns', None)\n",
    "\n",
    "#Printing the shapes \n",
    "print(\"A:\", Jan1_24.shape)\n",
    "print(\"B:\", Jan2_24.shape)\n",
    "\n",
    "\n",
    "#Union all/concat \n",
    "\n",
    "# Concatenate the two DataFrames vertically (union all)\n",
    "Jan2024 = pd.concat([Jan1_24, Jan2_24], ignore_index=True)\n",
    "\n",
    "# Printing the number of rows in the combined DataFrame\n",
    "print(\"The number of rows for the combined table is:\", Jan2024.shape[0])"
   ],
   "metadata": {
    "collapsed": false,
    "ExecuteTime": {
     "end_time": "2024-02-13T13:56:02.021507400Z",
     "start_time": "2024-02-13T13:56:02.000738900Z"
    }
   },
   "id": "36b17f5a2574287a",
   "execution_count": 8
  },
  {
   "cell_type": "code",
   "outputs": [
    {
     "data": {
      "text/plain": "   Case No Receive Time (Badger)  \\\n0    54211    01-Jan-24 02:14:49   \n1    54213    01-Jan-24 02:32:47   \n2    54214    01-Jan-24 02:55:52   \n3    54216    01-Jan-24 02:57:56   \n4    54220    01-Jan-24 03:22:34   \n\n                                  Reported Condition   Forename  Surname  \\\n0  Symptoms: Ref: 0101-195-2863; Site: SOLUTC; Na...      Babar  Hussain   \n1  Symptoms: Ref: 0101-964-1845; Site: SOLUTC; Na...  Chaudhary   Kamran   \n2  Symptoms: Ref: 0101-847-2594; Site: SOLUTC; Na...      Lilly    Worth   \n3  Symptoms: Ref: 0101-860-2594; Site: SOLUTC; Na...       Ruth   Pedley   \n4  Symptoms: Ref: 0101-434-7552; Site: SOLUTC; Na...     Meadow   Holmes   \n\n          DOB                                    Provider Group   Reg Type  \\\n0  08-01-1991            Small Heath Medical Practice (BM XCTY)  (BM XCTY)   \n1  24-05-1984                    Grafton Road Surgery (SOL CCG)  (SOL CCG)   \n2  25-06-2014                       Harlequin Surgery (B XCITY)  (B XCITY)   \n3  28-10-1965   Hall Green Health Centre Prt Shrly Rd (BM XCTY)  (BM XCTY)   \n4  22-06-2015  Bosworth Med Grp-Bosworth MC main site (BM SOLI)  (BM SOLI)   \n\n  PG Code Call Origin Initial Case Type Final Case Type Reception Priority  \\\n0  M85108         NaN    T\\Centre Nurse  T\\Centre Nurse            Routine   \n1  M89024         NaN    T\\Centre Nurse  T\\Centre Nurse            Routine   \n2  M85031         NaN    T\\Centre Nurse  T\\Centre Nurse            Routine   \n3  Y00159         NaN    T\\Centre Nurse  T\\Centre Nurse            Routine   \n4  M89008         NaN    T\\Centre Nurse  T\\Centre Nurse            Routine   \n\n  Received From Priority After Assessment Location Name         Booked Date  \\\n0           NaN                       NaN  Solihull UTS  01-Jan-24 08:20:00   \n1           NaN                       NaN  Solihull UTS  01-Jan-24 08:30:00   \n2           NaN                       NaN  Solihull UTS  01-Jan-24 08:40:00   \n3           NaN                       NaN  Solihull UTS  01-Jan-24 09:00:00   \n4           NaN                       NaN  Solihull UTS  01-Jan-24 09:20:00   \n\n          PCC Arrival Despatch Time  \\\n0  01-Jan-24 08:25:43           NaN   \n1  01-Jan-24 08:19:12           NaN   \n2  01-Jan-24 08:35:57           NaN   \n3  01-Jan-24 08:53:02           NaN   \n4  01-Jan-24 09:11:03           NaN   \n\n                                            Followup Externally Received  \\\n0  Advised to call back Badger/111 if necessary\\r...     Locally Entered   \n1  Patient To Contact GP\\r\\nAdvised to call back ...     Locally Entered   \n2  Patient To Contact GP\\r\\nAdvised to call back ...     Locally Entered   \n3  Advised to call back Badger/111 if necessary\\r...     Locally Entered   \n4  Advised to call back Badger/111 if necessary\\r...     Locally Entered   \n\n  Destination Name Ext Case ID  Row Num  \n0              NaN         NaN        1  \n1              NaN         NaN        1  \n2              NaN         NaN        1  \n3              NaN         NaN        1  \n4              NaN         NaN        1  ",
      "text/html": "<div>\n<style scoped>\n    .dataframe tbody tr th:only-of-type {\n        vertical-align: middle;\n    }\n\n    .dataframe tbody tr th {\n        vertical-align: top;\n    }\n\n    .dataframe thead th {\n        text-align: right;\n    }\n</style>\n<table border=\"1\" class=\"dataframe\">\n  <thead>\n    <tr style=\"text-align: right;\">\n      <th></th>\n      <th>Case No</th>\n      <th>Receive Time (Badger)</th>\n      <th>Reported Condition</th>\n      <th>Forename</th>\n      <th>Surname</th>\n      <th>DOB</th>\n      <th>Provider Group</th>\n      <th>Reg Type</th>\n      <th>PG Code</th>\n      <th>Call Origin</th>\n      <th>Initial Case Type</th>\n      <th>Final Case Type</th>\n      <th>Reception Priority</th>\n      <th>Received From</th>\n      <th>Priority After Assessment</th>\n      <th>Location Name</th>\n      <th>Booked Date</th>\n      <th>PCC Arrival</th>\n      <th>Despatch Time</th>\n      <th>Followup</th>\n      <th>Externally Received</th>\n      <th>Destination Name</th>\n      <th>Ext Case ID</th>\n      <th>Row Num</th>\n    </tr>\n  </thead>\n  <tbody>\n    <tr>\n      <th>0</th>\n      <td>54211</td>\n      <td>01-Jan-24 02:14:49</td>\n      <td>Symptoms: Ref: 0101-195-2863; Site: SOLUTC; Na...</td>\n      <td>Babar</td>\n      <td>Hussain</td>\n      <td>08-01-1991</td>\n      <td>Small Heath Medical Practice (BM XCTY)</td>\n      <td>(BM XCTY)</td>\n      <td>M85108</td>\n      <td>NaN</td>\n      <td>T\\Centre Nurse</td>\n      <td>T\\Centre Nurse</td>\n      <td>Routine</td>\n      <td>NaN</td>\n      <td>NaN</td>\n      <td>Solihull UTS</td>\n      <td>01-Jan-24 08:20:00</td>\n      <td>01-Jan-24 08:25:43</td>\n      <td>NaN</td>\n      <td>Advised to call back Badger/111 if necessary\\r...</td>\n      <td>Locally Entered</td>\n      <td>NaN</td>\n      <td>NaN</td>\n      <td>1</td>\n    </tr>\n    <tr>\n      <th>1</th>\n      <td>54213</td>\n      <td>01-Jan-24 02:32:47</td>\n      <td>Symptoms: Ref: 0101-964-1845; Site: SOLUTC; Na...</td>\n      <td>Chaudhary</td>\n      <td>Kamran</td>\n      <td>24-05-1984</td>\n      <td>Grafton Road Surgery (SOL CCG)</td>\n      <td>(SOL CCG)</td>\n      <td>M89024</td>\n      <td>NaN</td>\n      <td>T\\Centre Nurse</td>\n      <td>T\\Centre Nurse</td>\n      <td>Routine</td>\n      <td>NaN</td>\n      <td>NaN</td>\n      <td>Solihull UTS</td>\n      <td>01-Jan-24 08:30:00</td>\n      <td>01-Jan-24 08:19:12</td>\n      <td>NaN</td>\n      <td>Patient To Contact GP\\r\\nAdvised to call back ...</td>\n      <td>Locally Entered</td>\n      <td>NaN</td>\n      <td>NaN</td>\n      <td>1</td>\n    </tr>\n    <tr>\n      <th>2</th>\n      <td>54214</td>\n      <td>01-Jan-24 02:55:52</td>\n      <td>Symptoms: Ref: 0101-847-2594; Site: SOLUTC; Na...</td>\n      <td>Lilly</td>\n      <td>Worth</td>\n      <td>25-06-2014</td>\n      <td>Harlequin Surgery (B XCITY)</td>\n      <td>(B XCITY)</td>\n      <td>M85031</td>\n      <td>NaN</td>\n      <td>T\\Centre Nurse</td>\n      <td>T\\Centre Nurse</td>\n      <td>Routine</td>\n      <td>NaN</td>\n      <td>NaN</td>\n      <td>Solihull UTS</td>\n      <td>01-Jan-24 08:40:00</td>\n      <td>01-Jan-24 08:35:57</td>\n      <td>NaN</td>\n      <td>Patient To Contact GP\\r\\nAdvised to call back ...</td>\n      <td>Locally Entered</td>\n      <td>NaN</td>\n      <td>NaN</td>\n      <td>1</td>\n    </tr>\n    <tr>\n      <th>3</th>\n      <td>54216</td>\n      <td>01-Jan-24 02:57:56</td>\n      <td>Symptoms: Ref: 0101-860-2594; Site: SOLUTC; Na...</td>\n      <td>Ruth</td>\n      <td>Pedley</td>\n      <td>28-10-1965</td>\n      <td>Hall Green Health Centre Prt Shrly Rd (BM XCTY)</td>\n      <td>(BM XCTY)</td>\n      <td>Y00159</td>\n      <td>NaN</td>\n      <td>T\\Centre Nurse</td>\n      <td>T\\Centre Nurse</td>\n      <td>Routine</td>\n      <td>NaN</td>\n      <td>NaN</td>\n      <td>Solihull UTS</td>\n      <td>01-Jan-24 09:00:00</td>\n      <td>01-Jan-24 08:53:02</td>\n      <td>NaN</td>\n      <td>Advised to call back Badger/111 if necessary\\r...</td>\n      <td>Locally Entered</td>\n      <td>NaN</td>\n      <td>NaN</td>\n      <td>1</td>\n    </tr>\n    <tr>\n      <th>4</th>\n      <td>54220</td>\n      <td>01-Jan-24 03:22:34</td>\n      <td>Symptoms: Ref: 0101-434-7552; Site: SOLUTC; Na...</td>\n      <td>Meadow</td>\n      <td>Holmes</td>\n      <td>22-06-2015</td>\n      <td>Bosworth Med Grp-Bosworth MC main site (BM SOLI)</td>\n      <td>(BM SOLI)</td>\n      <td>M89008</td>\n      <td>NaN</td>\n      <td>T\\Centre Nurse</td>\n      <td>T\\Centre Nurse</td>\n      <td>Routine</td>\n      <td>NaN</td>\n      <td>NaN</td>\n      <td>Solihull UTS</td>\n      <td>01-Jan-24 09:20:00</td>\n      <td>01-Jan-24 09:11:03</td>\n      <td>NaN</td>\n      <td>Advised to call back Badger/111 if necessary\\r...</td>\n      <td>Locally Entered</td>\n      <td>NaN</td>\n      <td>NaN</td>\n      <td>1</td>\n    </tr>\n  </tbody>\n</table>\n</div>"
     },
     "execution_count": 9,
     "metadata": {},
     "output_type": "execute_result"
    }
   ],
   "source": [
    "Jan2024.head()"
   ],
   "metadata": {
    "collapsed": false,
    "ExecuteTime": {
     "end_time": "2024-02-13T13:56:19.609600200Z",
     "start_time": "2024-02-13T13:56:19.577734Z"
    }
   },
   "id": "bc3ff5a80cdac7a7",
   "execution_count": 9
  },
  {
   "cell_type": "code",
   "outputs": [
    {
     "data": {
      "text/plain": "Index(['Case No', 'Receive Time (Badger)', 'Reported Condition', 'Forename',\n       'Surname', 'DOB', 'Provider Group', 'Reg Type', 'PG Code',\n       'Call Origin', 'Initial Case Type', 'Final Case Type',\n       'Reception Priority', 'Received From', 'Priority After Assessment',\n       'Location Name', 'Booked Date', 'PCC Arrival', 'Despatch Time',\n       'Followup', 'Externally Received', 'Destination Name', 'Ext Case ID',\n       'Row Num'],\n      dtype='object')"
     },
     "execution_count": 11,
     "metadata": {},
     "output_type": "execute_result"
    }
   ],
   "source": [
    "Jan2024.columns"
   ],
   "metadata": {
    "collapsed": false,
    "ExecuteTime": {
     "end_time": "2024-02-13T13:57:03.635873100Z",
     "start_time": "2024-02-13T13:57:03.594287800Z"
    }
   },
   "id": "5e23e298dd791ae8",
   "execution_count": 11
  },
  {
   "cell_type": "code",
   "outputs": [
    {
     "name": "stdout",
     "output_type": "stream",
     "text": [
      "Duplicate Forename and Surname combinations:\n",
      "          Forename Surname\n",
      "112          Tommy  Thomas\n",
      "154          Gewra   Tesfe\n",
      "252       Juwariah  Faisal\n",
      "367        Justine  Powell\n",
      "404          Teddy    Shaw\n",
      "...            ...     ...\n",
      "10962       Joseph  Casson\n",
      "10963        James  Rusher\n",
      "10965        Mandy   Beale\n",
      "10967       Sandra  Barnes\n",
      "10970  Christopher   Booth\n",
      "\n",
      "[1404 rows x 2 columns]\n"
     ]
    }
   ],
   "source": [
    "\n",
    "# Selecting only 'Forename' and 'Surname' columns\n",
    "selected_columns = Jan2024[['Forename', 'Surname']]\n",
    "\n",
    "# Finding duplicates\n",
    "duplicates = selected_columns[selected_columns.duplicated()]\n",
    "\n",
    "# Displaying duplicates\n",
    "print(\"Duplicate Forename and Surname combinations:\")\n",
    "print(duplicates)"
   ],
   "metadata": {
    "collapsed": false,
    "ExecuteTime": {
     "end_time": "2024-02-13T14:24:51.748045300Z",
     "start_time": "2024-02-13T14:24:51.724082200Z"
    }
   },
   "id": "ad65d4130a0bd070",
   "execution_count": 12
  },
  {
   "cell_type": "code",
   "outputs": [],
   "source": [],
   "metadata": {
    "collapsed": false
   },
   "id": "2d320a93b4bdddee"
  }
 ],
 "metadata": {
  "kernelspec": {
   "display_name": "Python 3",
   "language": "python",
   "name": "python3"
  },
  "language_info": {
   "codemirror_mode": {
    "name": "ipython",
    "version": 2
   },
   "file_extension": ".py",
   "mimetype": "text/x-python",
   "name": "python",
   "nbconvert_exporter": "python",
   "pygments_lexer": "ipython2",
   "version": "2.7.6"
  }
 },
 "nbformat": 4,
 "nbformat_minor": 5
}
