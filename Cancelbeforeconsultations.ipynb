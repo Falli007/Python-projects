{
 "cells": [
  {
   "cell_type": "code",
   "execution_count": 1,
   "id": "initial_id",
   "metadata": {
    "collapsed": true,
    "ExecuteTime": {
     "end_time": "2024-04-02T12:05:56.409259Z",
     "start_time": "2024-04-02T12:05:56.380033200Z"
    }
   },
   "outputs": [],
   "source": [
    "#Importing all the libraries \n",
    "\n",
    "import pandas as pd \n",
    "import numpy as np\n",
    "import matplotlib.pyplot as plt\n",
    "import seaborn as sns"
   ]
  },
  {
   "cell_type": "code",
   "outputs": [
    {
     "name": "stderr",
     "output_type": "stream",
     "text": [
      "C:\\Users\\Fredrick.Alli\\AppData\\Local\\Temp\\ipykernel_16464\\46601294.py:4: DtypeWarning: Columns (33,34,36,47,48,49,50,51,52,53,54,55,63) have mixed types. Specify dtype option on import or set low_memory=False.\n",
      "  Adastra = pd.read_csv(\"FullCaseReportData.csv\")\n"
     ]
    }
   ],
   "source": [
    "#Calling all CSV files \n",
    "\n",
    "Ummanu = pd.read_csv(\"Badger consultations October 23.csv\")\n",
    "Adastra = pd.read_csv(\"FullCaseReportData.csv\")#Contains only Blanks and UTS"
   ],
   "metadata": {
    "collapsed": false,
    "ExecuteTime": {
     "end_time": "2024-04-02T12:05:59.062300500Z",
     "start_time": "2024-04-02T12:05:58.192464300Z"
    }
   },
   "id": "2e792df2143e183e",
   "execution_count": 2
  },
  {
   "cell_type": "code",
   "outputs": [
    {
     "data": {
      "text/plain": "Index(['Case No', 'Operator Who Received Case', 'Reported Condition',\n       'Receive Time (Badger)', 'Forename', 'Surname', 'Sex', 'Dob', 'Age',\n       'Ethnicity', 'Address Line1', 'Address Line2', 'Address Line3',\n       'Postcode', 'Home Phone', 'Current Address Line1',\n       'Current Address Line2', 'Current Address Line3', 'Current Postcode',\n       'Return Phone No', 'Clinicians Name', 'Provider Group', 'PG Code',\n       'Call Origin', 'Caller Name', 'Caller Phone', 'Initial Case Type',\n       'Final Case Type', 'Reception Priority', 'Priority After Assessment',\n       'Latest Priority', 'Location Name', 'Comfort Call', 'Booked Date',\n       'PCC Arrival', 'Despatch Time', 'Doctor Arrived',\n       'Initial Case Rec Time', '1st Cons Summary', '1st Cons History',\n       '1st Cons Examination', '1st Cons Diagnosis', '1st Cons Treatment',\n       '1st Cons Began Time', '1st Cons End Time', '1st Cons Clinicians Name',\n       '1st Cons Prov Type', 'Last Cons Summary', 'Last Cons History',\n       'Last Cons Examination', 'Last Cons Diagnosis', 'Last Cons Treatment',\n       'Last Cons Begin Time', 'Last Cons End Time',\n       'Last Cons Clinicians Name', 'Last Cons Prov Type', 'Clinical Codes',\n       'Examination Details', 'Prescriptions', 'Followup With Comments',\n       'NHS Number', 'Externally Received', 'CGU Tag Summary',\n       'Case Tag Description', 'Case Tag', 'Outcome Mapping DX Code',\n       '2nd Consultation Start Date Time', '2nd Consultation End Date Time',\n       'Clinician Name', 'Received From', 'Site', 'Ext Case ID',\n       'Ext Case Ref', 'UniqueID'],\n      dtype='object')"
     },
     "execution_count": 3,
     "metadata": {},
     "output_type": "execute_result"
    }
   ],
   "source": [
    "Adastra.columns"
   ],
   "metadata": {
    "collapsed": false,
    "ExecuteTime": {
     "end_time": "2024-04-02T12:06:27.713205100Z",
     "start_time": "2024-04-02T12:06:27.691068100Z"
    }
   },
   "id": "4eb8819461f6a479",
   "execution_count": 3
  },
  {
   "cell_type": "code",
   "outputs": [
    {
     "data": {
      "text/plain": "Index(['id', 'consultation_id', 'status', 'Surname', 'Forename', 'Dob',\n       'address', 'priority', 'key', 'Receive Time (Badger)',\n       'first_call_attempt_timestamp', 'duration_from_creation_to_1st_call',\n       'conversation_started_timestamp',\n       'duration_from_creation_to_1st_conversation_w_clinician',\n       'reopened_timestamp', 'completed_timestamp', 'UniqueID'],\n      dtype='object')"
     },
     "execution_count": 4,
     "metadata": {},
     "output_type": "execute_result"
    }
   ],
   "source": [
    "Ummanu.columns"
   ],
   "metadata": {
    "collapsed": false,
    "ExecuteTime": {
     "end_time": "2024-04-02T12:06:37.439727300Z",
     "start_time": "2024-04-02T12:06:37.415797100Z"
    }
   },
   "id": "aad7183f8ce41ee6",
   "execution_count": 4
  },
  {
   "cell_type": "code",
   "outputs": [
    {
     "data": {
      "text/plain": "(40232, 74)"
     },
     "execution_count": 5,
     "metadata": {},
     "output_type": "execute_result"
    }
   ],
   "source": [
    "Adastra.shape"
   ],
   "metadata": {
    "collapsed": false,
    "ExecuteTime": {
     "end_time": "2024-04-02T12:06:42.807178400Z",
     "start_time": "2024-04-02T12:06:42.788558600Z"
    }
   },
   "id": "d91c116d73e375f3",
   "execution_count": 5
  },
  {
   "cell_type": "code",
   "outputs": [
    {
     "data": {
      "text/plain": "(9564, 17)"
     },
     "execution_count": 6,
     "metadata": {},
     "output_type": "execute_result"
    }
   ],
   "source": [
    "Ummanu.shape"
   ],
   "metadata": {
    "collapsed": false,
    "ExecuteTime": {
     "end_time": "2024-04-02T12:06:48.368887Z",
     "start_time": "2024-04-02T12:06:48.351223Z"
    }
   },
   "id": "d1f0f60dae3d5fd1",
   "execution_count": 6
  },
  {
   "cell_type": "markdown",
   "source": [
    "Filter Ummanu"
   ],
   "metadata": {
    "collapsed": false
   },
   "id": "539a2ba5a88f788"
  },
  {
   "cell_type": "code",
   "outputs": [
    {
     "name": "stdout",
     "output_type": "stream",
     "text": [
      "                                        id   consultation_id  Surname   \n",
      "6     52a4e289-5910-4c90-9ab8-8f02e2d46acd  169-879-485-7973     Kite  \\\n",
      "8     56a80ded-0bd4-40e3-b9f7-7e37dd38e430  169-879-456-9970   Wright   \n",
      "27    5f58ed59-7f21-4369-a3fe-cd2dbdb0163e  169-879-048-1460   Laleye   \n",
      "28    073502f0-45d7-45b3-9caf-727ff34ab543  169-879-029-2392    Adeel   \n",
      "29    499b698d-876f-4f71-b46a-472326fd2c40  169-879-008-4007    Price   \n",
      "...                                    ...               ...      ...   \n",
      "9535  5f7bd169-6822-43a4-80a6-cb97f8dc8370  169-613-106-2926  Nesbitt   \n",
      "9536  56cb4a67-b65e-47cb-aeb0-b5d65d6b773c  169-613-084-3155   Sardar   \n",
      "9538  9240c2e8-d518-4951-899c-2703cfcd3341  169-612-991-8619   Thomas   \n",
      "9544  0f0f5b46-2798-4631-a8fc-6d0c87a8362f  169-612-550-9806   Thomas   \n",
      "9547  c9badbe2-4552-4e55-88e8-aad116ef9bc1  169-612-404-7983    Grant   \n",
      "\n",
      "          Forename         Dob   \n",
      "6     Kenneth John  10/06/1946  \\\n",
      "8      Tracy Susan  10/08/1962   \n",
      "27            Seyi  16/02/1980   \n",
      "28         Zaviyar  20/10/2023   \n",
      "29             Zoe  10/03/1988   \n",
      "...            ...         ...   \n",
      "9535          Gary  26/01/1979   \n",
      "9536        Samina  25/12/1978   \n",
      "9538       Wayne R  12/03/1972   \n",
      "9544       Wayne R  12/03/1972   \n",
      "9547         Viola  06/11/1977   \n",
      "\n",
      "                                                address  priority      key   \n",
      "6     Apartment 241 Longbridge Village, 2 Austin Way...         0  ROUTINE  \\\n",
      "8       Room 1, 65 Westbury Road, Birmingham, , B17 8HY         0  ROUTINE   \n",
      "27    43-47, Highfield Road, Saltley, Birmingham, , ...         0  ROUTINE   \n",
      "28     FLAT 3, 17 RIDDFIELD ROAD, BIRMINGHAM, , B36 8NX         0  ROUTINE   \n",
      "29                235 ST. MARKS ROAD, TIPTON, , DY4 0SZ         1   URGENT   \n",
      "...                                                 ...       ...      ...   \n",
      "9535          6 THE WALMERS WALK, BIRMINGHAM, , B31 2UG         0  ROUTINE   \n",
      "9536  53 ST. MARGARETS ROAD, WARD END, BIRMINGHAM, ,...         0  ROUTINE   \n",
      "9538  31, Wenlock Road, Handsworth, Birmingham, , B2...         0  ROUTINE   \n",
      "9544  31, Wenlock Road, Handsworth, Birmingham, , B2...         0  ROUTINE   \n",
      "9547  Flat 54 St Albans Court, New Street, Wolverham...         0  ROUTINE   \n",
      "\n",
      "     Receive Time (Badger) first_call_attempt_timestamp   \n",
      "6               31/10/2023                          NaN  \\\n",
      "8               31/10/2023                          NaN   \n",
      "27              31/10/2023                          NaN   \n",
      "28              31/10/2023                          NaN   \n",
      "29              31/10/2023                          NaN   \n",
      "...                    ...                          ...   \n",
      "9535            01/10/2023                      31:15.6   \n",
      "9536            01/10/2023                      28:14.9   \n",
      "9538            01/10/2023                      12:13.7   \n",
      "9544            01/10/2023                      59:12.9   \n",
      "9547            01/10/2023                      35:12.8   \n",
      "\n",
      "     duration_from_creation_to_1st_call conversation_started_timestamp   \n",
      "6                                   NaN                            NaN  \\\n",
      "8                                   NaN                            NaN   \n",
      "27                                  NaN                            NaN   \n",
      "28                                  NaN                            NaN   \n",
      "29                                  NaN                            NaN   \n",
      "...                                 ...                            ...   \n",
      "9535                            00:12.6                            NaN   \n",
      "9536                            00:51.8                            NaN   \n",
      "9538                            00:15.0                            NaN   \n",
      "9544                            00:43.1                            NaN   \n",
      "9547                            01:04.9                            NaN   \n",
      "\n",
      "     duration_from_creation_to_1st_conversation_w_clinician   \n",
      "6                                                   NaN      \\\n",
      "8                                                   NaN       \n",
      "27                                                  NaN       \n",
      "28                                                  NaN       \n",
      "29                                                  NaN       \n",
      "...                                                 ...       \n",
      "9535                                                NaN       \n",
      "9536                                                NaN       \n",
      "9538                                                NaN       \n",
      "9544                                                NaN       \n",
      "9547                                                NaN       \n",
      "\n",
      "     reopened_timestamp completed_timestamp                UniqueID  \n",
      "6                   NaN             27:59.2   Kenneth JohnKite16963  \n",
      "8                   NaN             27:46.6  Tracy SusanWright22868  \n",
      "27                  NaN             17:05.4         SeyiLaleye29267  \n",
      "28                  NaN             11:59.8       ZaviyarAdeel45219  \n",
      "29                  NaN             11:42.5           ZoePrice32212  \n",
      "...                 ...                 ...                     ...  \n",
      "9535                NaN             31:33.8        GaryNesbitt28881  \n",
      "9536                NaN             29:28.6       SaminaSardar28849  \n",
      "9538                NaN             22:14.1      Wayne RThomas26370  \n",
      "9544                NaN             01:28.0      Wayne RThomas26370  \n",
      "9547                NaN             36:19.4         ViolaGrant28435  \n",
      "\n",
      "[1856 rows x 16 columns]\n"
     ]
    }
   ],
   "source": [
    "# Assuming Ummanu is your DataFrame containing the data\n",
    "filtered_data = Ummanu[Ummanu['status'] == 'CANCELED']\n",
    "\n",
    "# Displaying other columns for all rows where status is 'cancelled'\n",
    "filtered_data = filtered_data[['id', 'consultation_id', 'Surname', 'Forename', 'Dob', 'address', 'priority', 'key', 'Receive Time (Badger)', 'first_call_attempt_timestamp', 'duration_from_creation_to_1st_call', 'conversation_started_timestamp', 'duration_from_creation_to_1st_conversation_w_clinician', 'reopened_timestamp', 'completed_timestamp', 'UniqueID']]\n",
    "\n",
    "print(filtered_data)"
   ],
   "metadata": {
    "collapsed": false,
    "ExecuteTime": {
     "end_time": "2024-04-02T12:09:12.223335900Z",
     "start_time": "2024-04-02T12:09:12.196001200Z"
    }
   },
   "id": "42decf675ee35fa2",
   "execution_count": 7
  },
  {
   "cell_type": "markdown",
   "source": [
    "Finding match between Ummanu and Adastra "
   ],
   "metadata": {
    "collapsed": false
   },
   "id": "a0c41335985c0a3b"
  },
  {
   "cell_type": "code",
   "outputs": [
    {
     "name": "stdout",
     "output_type": "stream",
     "text": [
      "      Case No Operator Who Received Case Reported Condition   \n",
      "0       93081                        NaN                NaN  \\\n",
      "1       93082                        NaN                NaN   \n",
      "2       93083                        NaN                NaN   \n",
      "3       93263                        NaN                NaN   \n",
      "4       93518                        NaN                NaN   \n",
      "...       ...                        ...                ...   \n",
      "1740    18280                        NaN                NaN   \n",
      "1741    18281                        NaN                NaN   \n",
      "1742    18283                        NaN                NaN   \n",
      "1743    18284                        NaN                NaN   \n",
      "1744    18304                        NaN                NaN   \n",
      "\n",
      "     Receive Time (Badger)     Forename     Surname Sex         Dob       Age   \n",
      "0               01/10/2023       Samina      Sardar   F  25/12/1978  44 years  \\\n",
      "1               01/10/2023         Gary     Nesbitt   M  26/01/1979  44 years   \n",
      "2               01/10/2023         Alan         Day   M  25/02/1965  58 years   \n",
      "3               01/10/2023         Alan         Day   M  25/02/1965  58 years   \n",
      "4               01/10/2023         Alan         Day   M  25/02/1965  58 years   \n",
      "...                    ...          ...         ...  ..         ...       ...   \n",
      "1740            31/10/2023       Malika  Abdulmaged   F  01/01/1961  62 years   \n",
      "1741            31/10/2023          Zoe       Price   F  10/03/1988  35 years   \n",
      "1742            31/10/2023      Zaviyar       Adeel   M  20/10/2023   11 days   \n",
      "1743            31/10/2023         Seyi      Laleye   F  16/02/1980  43 years   \n",
      "1744            31/10/2023  Tracy Susan      Wright   F  10/08/1962  61 years   \n",
      "\n",
      "         Ethnicity  ...                                            address   \n",
      "0     Not Recorded  ...  53 ST. MARGARETS ROAD, WARD END, BIRMINGHAM, ,...  \\\n",
      "1     Not Recorded  ...          6 THE WALMERS WALK, BIRMINGHAM, , B31 2UG   \n",
      "2     Not Recorded  ...  11 LANSDOWNE ROAD, ERDINGTON, BIRMINGHAM, , B2...   \n",
      "3     Not Recorded  ...  11 LANSDOWNE ROAD, ERDINGTON, BIRMINGHAM, , B2...   \n",
      "4     Not Recorded  ...  11 LANSDOWNE ROAD, ERDINGTON, BIRMINGHAM, , B2...   \n",
      "...            ...  ...                                                ...   \n",
      "1740  Not Recorded  ...             11 EVERSLEY ROAD, BIRMINGHAM, , B9 5BS   \n",
      "1741  Not Recorded  ...              235 ST. MARKS ROAD, TIPTON, , DY4 0SZ   \n",
      "1742  Not Recorded  ...   FLAT 3, 17 RIDDFIELD ROAD, BIRMINGHAM, , B36 8NX   \n",
      "1743  Not Recorded  ...  43-47, Highfield Road, Saltley, Birmingham, , ...   \n",
      "1744  Not Recorded  ...    Room 1, 65 Westbury Road, Birmingham, , B17 8HY   \n",
      "\n",
      "     priority      key first_call_attempt_timestamp   \n",
      "0           0  ROUTINE                      28:14.9  \\\n",
      "1           0  ROUTINE                      31:15.6   \n",
      "2           0  ROUTINE                          NaN   \n",
      "3           0  ROUTINE                          NaN   \n",
      "4           0  ROUTINE                          NaN   \n",
      "...       ...      ...                          ...   \n",
      "1740        0  ROUTINE                      38:16.9   \n",
      "1741        1   URGENT                          NaN   \n",
      "1742        0  ROUTINE                          NaN   \n",
      "1743        0  ROUTINE                          NaN   \n",
      "1744        0  ROUTINE                          NaN   \n",
      "\n",
      "     duration_from_creation_to_1st_call conversation_started_timestamp   \n",
      "0                               00:51.8                            NaN  \\\n",
      "1                               00:12.6                            NaN   \n",
      "2                                   NaN                            NaN   \n",
      "3                                   NaN                            NaN   \n",
      "4                                   NaN                            NaN   \n",
      "...                                 ...                            ...   \n",
      "1740                            34:42.5                            NaN   \n",
      "1741                                NaN                            NaN   \n",
      "1742                                NaN                            NaN   \n",
      "1743                                NaN                            NaN   \n",
      "1744                                NaN                            NaN   \n",
      "\n",
      "     duration_from_creation_to_1st_conversation_w_clinician   \n",
      "0                                                   NaN      \\\n",
      "1                                                   NaN       \n",
      "2                                                   NaN       \n",
      "3                                                   NaN       \n",
      "4                                                   NaN       \n",
      "...                                                 ...       \n",
      "1740                                                NaN       \n",
      "1741                                                NaN       \n",
      "1742                                                NaN       \n",
      "1743                                                NaN       \n",
      "1744                                                NaN       \n",
      "\n",
      "     reopened_timestamp completed_timestamp              UniqueID_y  \n",
      "0                   NaN             29:28.6       SaminaSardar28849  \n",
      "1                   NaN             31:33.8        GaryNesbitt28881  \n",
      "2                   NaN             03:59.6            AlanDay23798  \n",
      "3                   NaN             03:59.6            AlanDay23798  \n",
      "4                   NaN             03:59.6            AlanDay23798  \n",
      "...                 ...                 ...                     ...  \n",
      "1740                NaN             54:45.3   MalikaAbdulmaged22282  \n",
      "1741                NaN             11:42.5           ZoePrice32212  \n",
      "1742                NaN             11:59.8       ZaviyarAdeel45219  \n",
      "1743                NaN             17:05.4         SeyiLaleye29267  \n",
      "1744                NaN             27:46.6  Tracy SusanWright22868  \n",
      "\n",
      "[1745 rows x 84 columns]\n"
     ]
    }
   ],
   "source": [
    "# The merge function to find matches based on common columns\n",
    "matches = pd.merge(Adastra[['Case No', 'Operator Who Received Case', 'Reported Condition',\n",
    "       'Receive Time (Badger)', 'Forename', 'Surname', 'Sex', 'Dob', 'Age',\n",
    "       'Ethnicity', 'Address Line1', 'Address Line2', 'Address Line3',\n",
    "       'Postcode', 'Home Phone', 'Current Address Line1',\n",
    "       'Current Address Line2', 'Current Address Line3', 'Current Postcode',\n",
    "       'Return Phone No', 'Clinicians Name', 'Provider Group', 'PG Code',\n",
    "       'Call Origin', 'Caller Name', 'Caller Phone', 'Initial Case Type',\n",
    "       'Final Case Type', 'Reception Priority', 'Priority After Assessment',\n",
    "       'Latest Priority', 'Location Name', 'Comfort Call', 'Booked Date',\n",
    "       'PCC Arrival', 'Despatch Time', 'Doctor Arrived',\n",
    "       'Initial Case Rec Time', '1st Cons Summary', '1st Cons History',\n",
    "       '1st Cons Examination', '1st Cons Diagnosis', '1st Cons Treatment',\n",
    "       '1st Cons Began Time', '1st Cons End Time', '1st Cons Clinicians Name',\n",
    "       '1st Cons Prov Type', 'Last Cons Summary', 'Last Cons History',\n",
    "       'Last Cons Examination', 'Last Cons Diagnosis', 'Last Cons Treatment',\n",
    "       'Last Cons Begin Time', 'Last Cons End Time',\n",
    "       'Last Cons Clinicians Name', 'Last Cons Prov Type', 'Clinical Codes',\n",
    "       'Examination Details', 'Prescriptions', 'Followup With Comments',\n",
    "       'NHS Number', 'Externally Received', 'CGU Tag Summary',\n",
    "       'Case Tag Description', 'Case Tag', 'Outcome Mapping DX Code',\n",
    "       '2nd Consultation Start Date Time', '2nd Consultation End Date Time',\n",
    "       'Clinician Name', 'Received From', 'Site', 'Ext Case ID',\n",
    "       'Ext Case Ref', 'UniqueID']], filtered_data[['Forename', 'Surname', 'Dob', 'Receive Time (Badger)','address', 'priority', 'key', 'first_call_attempt_timestamp', 'duration_from_creation_to_1st_call', 'conversation_started_timestamp', 'duration_from_creation_to_1st_conversation_w_clinician', 'reopened_timestamp', 'completed_timestamp', 'UniqueID']], on=['Forename', 'Surname', 'Dob', 'Receive Time (Badger)'], how='inner')\n",
    "\n",
    "print(matches)"
   ],
   "metadata": {
    "collapsed": false,
    "ExecuteTime": {
     "end_time": "2024-04-02T12:10:44.250024500Z",
     "start_time": "2024-04-02T12:10:44.179092200Z"
    }
   },
   "id": "3a12a27b43fce8f4",
   "execution_count": 9
  },
  {
   "cell_type": "code",
   "outputs": [
    {
     "name": "stdout",
     "output_type": "stream",
     "text": [
      "Matched data from Adastra_Report saved to Oct_fullinsights2023.csv\n"
     ]
    }
   ],
   "source": [
    "# Save the merged data to a new CSV file\n",
    "matches.to_csv(r'C:\\Users\\Fredrick.Alli\\OneDrive - Badger Medical\\Py\\PycharmProjects\\Finding the matches between Ummanu(status=cancelled and Adastra)\\Ummanu and Adastra Match\\Oct_fullinsights2023.csv', index=False)\n",
    "\n",
    "print(\"Matched data from Adastra_Report saved to Oct_fullinsights2023.csv\")"
   ],
   "metadata": {
    "collapsed": false,
    "ExecuteTime": {
     "end_time": "2024-04-02T12:12:45.888436300Z",
     "start_time": "2024-04-02T12:12:45.827193700Z"
    }
   },
   "id": "a709ff635754ca3d",
   "execution_count": 10
  },
  {
   "cell_type": "markdown",
   "source": [
    "November Matches for Adastra and Ummanu "
   ],
   "metadata": {
    "collapsed": false
   },
   "id": "6e74a8454a0cd3e6"
  },
  {
   "cell_type": "code",
   "outputs": [
    {
     "name": "stderr",
     "output_type": "stream",
     "text": [
      "C:\\Users\\Fredrick.Alli\\AppData\\Local\\Temp\\ipykernel_16464\\3952341575.py:4: DtypeWarning: Columns (33,34,36,47,48,49,50,51,52,53,54,55,63) have mixed types. Specify dtype option on import or set low_memory=False.\n",
      "  Adastra2 = pd.read_csv(\"FullCaseReportData.csv\")#Contains only Blanks and UTS\n"
     ]
    }
   ],
   "source": [
    "#Calling all CSV files \n",
    "\n",
    "Ummanu2 = pd.read_csv(\"Badger consultations Nov 23.csv\")\n",
    "Adastra2 = pd.read_csv(\"FullCaseReportData.csv\")#Contains only Blanks and UTS"
   ],
   "metadata": {
    "collapsed": false,
    "ExecuteTime": {
     "end_time": "2024-04-02T12:19:08.099857600Z",
     "start_time": "2024-04-02T12:19:07.079951700Z"
    }
   },
   "id": "52c913cad5ae69e4",
   "execution_count": 11
  },
  {
   "cell_type": "code",
   "outputs": [
    {
     "data": {
      "text/plain": "(9560, 18)"
     },
     "execution_count": 12,
     "metadata": {},
     "output_type": "execute_result"
    }
   ],
   "source": [
    "Ummanu2.shape"
   ],
   "metadata": {
    "collapsed": false,
    "ExecuteTime": {
     "end_time": "2024-04-02T12:19:46.633759900Z",
     "start_time": "2024-04-02T12:19:46.607186Z"
    }
   },
   "id": "d0950c15eb93895c",
   "execution_count": 12
  },
  {
   "cell_type": "code",
   "outputs": [
    {
     "data": {
      "text/plain": "(40232, 74)"
     },
     "execution_count": 13,
     "metadata": {},
     "output_type": "execute_result"
    }
   ],
   "source": [
    "Adastra2.shape"
   ],
   "metadata": {
    "collapsed": false,
    "ExecuteTime": {
     "end_time": "2024-04-02T12:19:59.595336100Z",
     "start_time": "2024-04-02T12:19:59.573594100Z"
    }
   },
   "id": "614402904ead2eef",
   "execution_count": 13
  },
  {
   "cell_type": "markdown",
   "source": [
    "Filter Ummanu 2"
   ],
   "metadata": {
    "collapsed": false
   },
   "id": "c05df4586d9b799d"
  },
  {
   "cell_type": "code",
   "outputs": [
    {
     "name": "stdout",
     "output_type": "stream",
     "text": [
      "                                        id   consultation_id  Surname   \n",
      "12    30cfcfb2-a435-42a1-a84f-ea049f863765  170-138-508-3594   Walton  \\\n",
      "17    c0631e23-f5f9-4ad5-b7fe-7f4436652fd2  170-138-457-0968   Akhtar   \n",
      "25    afbb2985-755e-4c5e-a191-0baeebb73566  170-138-274-5446  Douglas   \n",
      "33    3ed9cfb6-5a32-47c6-9666-7f8573450ab1  170-138-123-9797  Mcilwee   \n",
      "34    47f32d89-074b-4138-99b6-f4236e3cd7f6  170-138-110-9563     Hunt   \n",
      "...                                    ...               ...      ...   \n",
      "9539  bedfaf3c-c16b-4174-b6f2-731ba4917af0  169-880-340-9344    Preet   \n",
      "9541  757788d4-61d0-48c4-a0cd-cbe7b4e29c60  169-880-171-6304  Summers   \n",
      "9543  a347d986-abff-4679-8481-dac37b843550  169-880-102-3845  Alhazmi   \n",
      "9546  5a581536-6da0-4a75-913b-85ee055a6e6d  169-880-071-5447     Zada   \n",
      "9556  41d70171-b272-4c83-8783-532d95f74a69  169-879-733-4121   Wilson   \n",
      "\n",
      "             Forename         Dob   \n",
      "12              Kevin  28/06/1963  \\\n",
      "17               Sana  31/08/1999   \n",
      "25              Amiya  06/08/2022   \n",
      "33    Anthony Patrick  21/12/1963   \n",
      "34               Neil  01/07/1951   \n",
      "...               ...         ...   \n",
      "9539             Aman  02/10/2005   \n",
      "9541         Douglars  22/07/1929   \n",
      "9543             Dhai  16/03/2016   \n",
      "9546            Hayah  20/03/2023   \n",
      "9556        Ann-Marie  11/08/1988   \n",
      "\n",
      "                                                address  priority      key   \n",
      "12                    49 POUND ROAD, OLDBURY, , B68 8LY         0  ROUTINE  \\\n",
      "17             17 BARNFORD CLOSE, BIRMINGHAM, , B10 0BL         0  ROUTINE   \n",
      "25    11 FRANCES ROAD, ERDINGTON, BIRMINGHAM, , B23 7LD         0  ROUTINE   \n",
      "33    298, Franklin Road, Bournville, Birmingham, , ...         0  ROUTINE   \n",
      "34       6 CHECKLEY CLOSE, SHIRLEY, SOLIHULL, , B90 2BW         0  ROUTINE   \n",
      "...                                                 ...       ...      ...   \n",
      "9539  Parkway House 3, Bordesley Park Road, Birmingh...         0  ROUTINE   \n",
      "9541  BLOSSOMFIELD ROSE CARE HOME, BLOSSOMFIELD ROAD...         0  ROUTINE   \n",
      "9543  Apartment 221 Skyline 165, Granville Street, B...         0  ROUTINE   \n",
      "9546           64 GAYHURST DRIVE, BIRMINGHAM, , B25 8YN         0  ROUTINE   \n",
      "9556  4, Snitterfield Drive, Shirley, Solihull, , B9...         0  ROUTINE   \n",
      "\n",
      "     Receive Time (Badger) first_call_attempt_timestamp   \n",
      "12              30/11/2023                          NaN  \\\n",
      "17              30/11/2023                          NaN   \n",
      "25              30/11/2023                          NaN   \n",
      "33              30/11/2023                          NaN   \n",
      "34              30/11/2023                          NaN   \n",
      "...                    ...                          ...   \n",
      "9539            01/11/2023                      50:17.0   \n",
      "9541            01/11/2023                      22:17.4   \n",
      "9543            01/11/2023                          NaN   \n",
      "9546            01/11/2023                          NaN   \n",
      "9556            01/11/2023                          NaN   \n",
      "\n",
      "     duration_from_creation_to_1st_call conversation_started_timestamp   \n",
      "12                                  NaN                            NaN  \\\n",
      "17                                  NaN                            NaN   \n",
      "25                                  NaN                            NaN   \n",
      "33                                  NaN                            NaN   \n",
      "34                                  NaN                            NaN   \n",
      "...                                 ...                            ...   \n",
      "9539                            00:07.6                            NaN   \n",
      "9541                            00:21.0                            NaN   \n",
      "9543                                NaN                            NaN   \n",
      "9546                                NaN                            NaN   \n",
      "9556                                NaN                            NaN   \n",
      "\n",
      "     duration_from_creation_to_1st_conversation_w_clinician   \n",
      "12                                                  NaN      \\\n",
      "17                                                  NaN       \n",
      "25                                                  NaN       \n",
      "33                                                  NaN       \n",
      "34                                                  NaN       \n",
      "...                                                 ...       \n",
      "9539                                                NaN       \n",
      "9541                                                NaN       \n",
      "9543                                                NaN       \n",
      "9546                                                NaN       \n",
      "9556                                                NaN       \n",
      "\n",
      "     reopened_timestamp completed_timestamp                          UniqueID  \n",
      "12                  NaN             01:10.1             KevinWalton2319045260  \n",
      "17                  NaN             02:17.3              SanaAkhtar3640345260  \n",
      "25                  NaN             21:20.6            AmiyaDouglas4477945260  \n",
      "33                  NaN             09:48.0  Anthony PatrickMcilwee2336645260  \n",
      "34                  NaN             01:56.7                NeilHunt1881045260  \n",
      "...                 ...                 ...                               ...  \n",
      "9539                NaN             53:14.6               AmanPreet3862745231  \n",
      "9541                NaN             24:05.8         DouglarsSummers1079645231  \n",
      "9543                NaN             12:09.6             DhaiAlhazmi4244545231  \n",
      "9546                NaN             07:10.5               HayahZada4500545231  \n",
      "9556                NaN             11:54.6         Ann-MarieWilson3236645231  \n",
      "\n",
      "[1534 rows x 16 columns]\n"
     ]
    }
   ],
   "source": [
    "# Assuming Ummanu is your DataFrame containing the data\n",
    "filtered_data2 = Ummanu2[Ummanu2['status'] == 'CANCELED']\n",
    "\n",
    "# Displaying other columns for all rows where status is 'cancelled'\n",
    "filtered_data2 = filtered_data2[['id', 'consultation_id', 'Surname', 'Forename', 'Dob', 'address', 'priority', 'key', 'Receive Time (Badger)', 'first_call_attempt_timestamp', 'duration_from_creation_to_1st_call', 'conversation_started_timestamp', 'duration_from_creation_to_1st_conversation_w_clinician', 'reopened_timestamp', 'completed_timestamp', 'UniqueID']]\n",
    "\n",
    "print(filtered_data2)"
   ],
   "metadata": {
    "collapsed": false,
    "ExecuteTime": {
     "end_time": "2024-04-02T12:22:29.313142500Z",
     "start_time": "2024-04-02T12:22:29.277646700Z"
    }
   },
   "id": "39590c38f51121c3",
   "execution_count": 14
  },
  {
   "cell_type": "markdown",
   "source": [
    "Find the match between Ummanu and Adastra, Nov 2023"
   ],
   "metadata": {
    "collapsed": false
   },
   "id": "418e16eb8300c46e"
  },
  {
   "cell_type": "code",
   "outputs": [
    {
     "name": "stdout",
     "output_type": "stream",
     "text": [
      "      Case No Operator Who Received Case Reported Condition   \n",
      "0       18316                        NaN                NaN  \\\n",
      "1       18326                        NaN                NaN   \n",
      "2       18330                        NaN                NaN   \n",
      "3       18329                        NaN                NaN   \n",
      "4       18333                        NaN                NaN   \n",
      "...       ...                        ...                ...   \n",
      "1135    33532                        NaN                NaN   \n",
      "1136    33542                        NaN                NaN   \n",
      "1137    33546                        NaN                NaN   \n",
      "1138    33551                        NaN                NaN   \n",
      "1139    33560                        NaN                NaN   \n",
      "\n",
      "     Receive Time (Badger)   Forename  Surname Sex         Dob        Age   \n",
      "0               01/11/2023  Ann-Marie   Wilson   F  11/08/1988   35 years  \\\n",
      "1               01/11/2023      Hayah     Zada   F  20/03/2023   7 months   \n",
      "2               01/11/2023      Hayah     Zada   F  20/03/2023   7 months   \n",
      "3               01/11/2023       Dhai  Alhazmi   F  16/03/2016    7 years   \n",
      "4               01/11/2023       Aman    Preet   F  02/10/2005   18 years   \n",
      "...                    ...        ...      ...  ..         ...        ...   \n",
      "1135            30/11/2023       Neil     Hunt   M  01/07/1951   72 years   \n",
      "1136            30/11/2023      Amiya  Douglas   F  06/08/2022  15 months   \n",
      "1137            30/11/2023      Amiya  Douglas   F  06/08/2022  15 months   \n",
      "1138            30/11/2023       Sana   Akhtar   F  31/08/1999   24 years   \n",
      "1139            30/11/2023      Kevin   Walton   M  28/06/1963   60 years   \n",
      "\n",
      "         Ethnicity  ...                                            address   \n",
      "0     Not Recorded  ...  4, Snitterfield Drive, Shirley, Solihull, , B9...  \\\n",
      "1     Not Recorded  ...           64 GAYHURST DRIVE, BIRMINGHAM, , B25 8YN   \n",
      "2     Not Recorded  ...           64 GAYHURST DRIVE, BIRMINGHAM, , B25 8YN   \n",
      "3     Not Recorded  ...  Apartment 221 Skyline 165, Granville Street, B...   \n",
      "4     Not Recorded  ...  Parkway House 3, Bordesley Park Road, Birmingh...   \n",
      "...            ...  ...                                                ...   \n",
      "1135  Not Recorded  ...     6 CHECKLEY CLOSE, SHIRLEY, SOLIHULL, , B90 2BW   \n",
      "1136  Not Recorded  ...  11 FRANCES ROAD, ERDINGTON, BIRMINGHAM, , B23 7LD   \n",
      "1137  Not Recorded  ...  11 FRANCES ROAD, ERDINGTON, BIRMINGHAM, , B23 7LD   \n",
      "1138  Not Recorded  ...           17 BARNFORD CLOSE, BIRMINGHAM, , B10 0BL   \n",
      "1139  Not Recorded  ...                  49 POUND ROAD, OLDBURY, , B68 8LY   \n",
      "\n",
      "     priority      key first_call_attempt_timestamp   \n",
      "0           0  ROUTINE                          NaN  \\\n",
      "1           0  ROUTINE                          NaN   \n",
      "2           0  ROUTINE                          NaN   \n",
      "3           0  ROUTINE                          NaN   \n",
      "4           0  ROUTINE                      50:17.0   \n",
      "...       ...      ...                          ...   \n",
      "1135        0  ROUTINE                          NaN   \n",
      "1136        0  ROUTINE                          NaN   \n",
      "1137        0  ROUTINE                          NaN   \n",
      "1138        0  ROUTINE                          NaN   \n",
      "1139        0  ROUTINE                          NaN   \n",
      "\n",
      "     duration_from_creation_to_1st_call conversation_started_timestamp   \n",
      "0                                   NaN                            NaN  \\\n",
      "1                                   NaN                            NaN   \n",
      "2                                   NaN                            NaN   \n",
      "3                                   NaN                            NaN   \n",
      "4                               00:07.6                            NaN   \n",
      "...                                 ...                            ...   \n",
      "1135                                NaN                            NaN   \n",
      "1136                                NaN                            NaN   \n",
      "1137                                NaN                            NaN   \n",
      "1138                                NaN                            NaN   \n",
      "1139                                NaN                            NaN   \n",
      "\n",
      "     duration_from_creation_to_1st_conversation_w_clinician   \n",
      "0                                                   NaN      \\\n",
      "1                                                   NaN       \n",
      "2                                                   NaN       \n",
      "3                                                   NaN       \n",
      "4                                                   NaN       \n",
      "...                                                 ...       \n",
      "1135                                                NaN       \n",
      "1136                                                NaN       \n",
      "1137                                                NaN       \n",
      "1138                                                NaN       \n",
      "1139                                                NaN       \n",
      "\n",
      "     reopened_timestamp completed_timestamp                 UniqueID_y  \n",
      "0                   NaN             11:54.6  Ann-MarieWilson3236645231  \n",
      "1                   NaN             07:10.5        HayahZada4500545231  \n",
      "2                   NaN             07:10.5        HayahZada4500545231  \n",
      "3                   NaN             12:09.6      DhaiAlhazmi4244545231  \n",
      "4                   NaN             53:14.6        AmanPreet3862745231  \n",
      "...                 ...                 ...                        ...  \n",
      "1135                NaN             01:56.7         NeilHunt1881045260  \n",
      "1136                NaN             21:20.6     AmiyaDouglas4477945260  \n",
      "1137                NaN             21:20.6     AmiyaDouglas4477945260  \n",
      "1138                NaN             02:17.3       SanaAkhtar3640345260  \n",
      "1139                NaN             01:10.1      KevinWalton2319045260  \n",
      "\n",
      "[1140 rows x 84 columns]\n"
     ]
    }
   ],
   "source": [
    "# The merge function to find matches based on common columns\n",
    "matches2 = pd.merge(Adastra2[['Case No', 'Operator Who Received Case', 'Reported Condition',\n",
    "       'Receive Time (Badger)', 'Forename', 'Surname', 'Sex', 'Dob', 'Age',\n",
    "       'Ethnicity', 'Address Line1', 'Address Line2', 'Address Line3',\n",
    "       'Postcode', 'Home Phone', 'Current Address Line1',\n",
    "       'Current Address Line2', 'Current Address Line3', 'Current Postcode',\n",
    "       'Return Phone No', 'Clinicians Name', 'Provider Group', 'PG Code',\n",
    "       'Call Origin', 'Caller Name', 'Caller Phone', 'Initial Case Type',\n",
    "       'Final Case Type', 'Reception Priority', 'Priority After Assessment',\n",
    "       'Latest Priority', 'Location Name', 'Comfort Call', 'Booked Date',\n",
    "       'PCC Arrival', 'Despatch Time', 'Doctor Arrived',\n",
    "       'Initial Case Rec Time', '1st Cons Summary', '1st Cons History',\n",
    "       '1st Cons Examination', '1st Cons Diagnosis', '1st Cons Treatment',\n",
    "       '1st Cons Began Time', '1st Cons End Time', '1st Cons Clinicians Name',\n",
    "       '1st Cons Prov Type', 'Last Cons Summary', 'Last Cons History',\n",
    "       'Last Cons Examination', 'Last Cons Diagnosis', 'Last Cons Treatment',\n",
    "       'Last Cons Begin Time', 'Last Cons End Time',\n",
    "       'Last Cons Clinicians Name', 'Last Cons Prov Type', 'Clinical Codes',\n",
    "       'Examination Details', 'Prescriptions', 'Followup With Comments',\n",
    "       'NHS Number', 'Externally Received', 'CGU Tag Summary',\n",
    "       'Case Tag Description', 'Case Tag', 'Outcome Mapping DX Code',\n",
    "       '2nd Consultation Start Date Time', '2nd Consultation End Date Time',\n",
    "       'Clinician Name', 'Received From', 'Site', 'Ext Case ID',\n",
    "       'Ext Case Ref', 'UniqueID']], filtered_data2[['Forename', 'Surname', 'Dob', 'Receive Time (Badger)','address', 'priority', 'key', 'first_call_attempt_timestamp', 'duration_from_creation_to_1st_call', 'conversation_started_timestamp', 'duration_from_creation_to_1st_conversation_w_clinician', 'reopened_timestamp', 'completed_timestamp', 'UniqueID']], on=['Forename', 'Surname', 'Dob', 'Receive Time (Badger)'], how='inner')\n",
    "\n",
    "print(matches2)"
   ],
   "metadata": {
    "collapsed": false,
    "ExecuteTime": {
     "end_time": "2024-04-02T12:26:07.911137900Z",
     "start_time": "2024-04-02T12:26:07.840983700Z"
    }
   },
   "id": "b803dd012e9946d",
   "execution_count": 15
  },
  {
   "cell_type": "code",
   "outputs": [
    {
     "name": "stdout",
     "output_type": "stream",
     "text": [
      "Matched data from Adastra_Report saved to Nov_fullinsights2023.csv\n"
     ]
    }
   ],
   "source": [
    "# Save the merged data to a new CSV file\n",
    "matches2.to_csv(r'C:\\Users\\Fredrick.Alli\\OneDrive - Badger Medical\\Py\\PycharmProjects\\Finding the matches between Ummanu(status=cancelled and Adastra)\\Ummanu and Adastra Match\\Nov_fullinsights2023.csv', index=False)\n",
    "\n",
    "print(\"Matched data from Adastra_Report saved to Nov_fullinsights2023.csv\")"
   ],
   "metadata": {
    "collapsed": false,
    "ExecuteTime": {
     "end_time": "2024-04-02T12:27:48.673186200Z",
     "start_time": "2024-04-02T12:27:48.631555100Z"
    }
   },
   "id": "462847e4cc3f74ed",
   "execution_count": 16
  },
  {
   "cell_type": "markdown",
   "source": [
    "December Matches for Adastra and Ummanu "
   ],
   "metadata": {
    "collapsed": false
   },
   "id": "90b9ffa21a79672c"
  },
  {
   "cell_type": "code",
   "outputs": [
    {
     "name": "stderr",
     "output_type": "stream",
     "text": [
      "C:\\Users\\Fredrick.Alli\\AppData\\Local\\Temp\\ipykernel_16464\\2836387323.py:4: DtypeWarning: Columns (33,34,36,47,48,49,50,51,52,53,54,55,63) have mixed types. Specify dtype option on import or set low_memory=False.\n",
      "  Adastra3 = pd.read_csv(\"FullCaseReportData.csv\")#Contains only Blanks and UTS\n"
     ]
    }
   ],
   "source": [
    "#Calling all CSV files \n",
    "\n",
    "Ummanu3 = pd.read_csv(\"Badger consultations Dec 23.csv\")\n",
    "Adastra3 = pd.read_csv(\"FullCaseReportData.csv\")#Contains only Blanks and UTS"
   ],
   "metadata": {
    "collapsed": false,
    "ExecuteTime": {
     "end_time": "2024-04-02T12:29:39.183354700Z",
     "start_time": "2024-04-02T12:29:38.342097500Z"
    }
   },
   "id": "dd1de8923c61c88d",
   "execution_count": 17
  },
  {
   "cell_type": "code",
   "outputs": [
    {
     "data": {
      "text/plain": "(14015, 18)"
     },
     "execution_count": 18,
     "metadata": {},
     "output_type": "execute_result"
    }
   ],
   "source": [
    "Ummanu3.shape"
   ],
   "metadata": {
    "collapsed": false,
    "ExecuteTime": {
     "end_time": "2024-04-02T12:31:20.414883400Z",
     "start_time": "2024-04-02T12:31:20.387169400Z"
    }
   },
   "id": "2479a4967e784b03",
   "execution_count": 18
  },
  {
   "cell_type": "code",
   "outputs": [
    {
     "data": {
      "text/plain": "(40232, 74)"
     },
     "execution_count": 19,
     "metadata": {},
     "output_type": "execute_result"
    }
   ],
   "source": [
    "Adastra3.shape"
   ],
   "metadata": {
    "collapsed": false,
    "ExecuteTime": {
     "end_time": "2024-04-02T12:31:32.404106100Z",
     "start_time": "2024-04-02T12:31:32.384555500Z"
    }
   },
   "id": "cefd890310c64733",
   "execution_count": 19
  },
  {
   "cell_type": "markdown",
   "source": [
    "Filter Ummanu3 for only status = cancelled "
   ],
   "metadata": {
    "collapsed": false
   },
   "id": "f55cdd4acfc7b322"
  },
  {
   "cell_type": "code",
   "outputs": [
    {
     "data": {
      "text/plain": "(14015, 18)"
     },
     "execution_count": 21,
     "metadata": {},
     "output_type": "execute_result"
    }
   ],
   "source": [
    "Ummanu3.shape"
   ],
   "metadata": {
    "collapsed": false,
    "ExecuteTime": {
     "end_time": "2024-04-02T12:36:49.303075Z",
     "start_time": "2024-04-02T12:36:49.268419500Z"
    }
   },
   "id": "e9933f52b564ade8",
   "execution_count": 21
  },
  {
   "cell_type": "code",
   "outputs": [
    {
     "name": "stdout",
     "output_type": "stream",
     "text": [
      "                                         id   consultation_id     Surname   \n",
      "11     488a2d19-8877-480e-89c2-f68aa3eb5ac2  170-406-502-6639     Sharkey  \\\n",
      "17     863dff1e-5118-4d48-865c-3ec1786d1ee3  170-406-408-8283    Blakeway   \n",
      "23     e18a93d2-feff-4e80-98ee-aa923a91e9ac  170-406-300-4001     Parveen   \n",
      "24     9435789b-8f0d-4b57-ac65-223738187201  170-406-292-8386       Blake   \n",
      "34     fcc64835-8d7f-487c-877b-a16d34eb19a0  170-406-178-1062        Lowe   \n",
      "...                                     ...               ...         ...   \n",
      "13998  2e027de2-16dd-46f4-be78-ee5631a2666d  170-139-467-0963        Miah   \n",
      "14005  69066b8d-5bea-4a75-b818-620a4921fc5c  170-139-264-8291  Bravington   \n",
      "14008  0e138add-270e-4d53-af72-02fe91b5fee1  170-139-143-2775     Hussain   \n",
      "14009  f6793863-2d8e-4c61-9f18-2dd87a7d9c6f  170-139-130-6325     Ugradar   \n",
      "14011  bafc5532-0f6c-4476-a999-b2a33825472a  170-139-078-1782      Ebanks   \n",
      "\n",
      "          Forename         Dob   \n",
      "11     Christopher  07/06/1968  \\\n",
      "17         Valerie  27/07/1943   \n",
      "23           Nazia  05/04/1976   \n",
      "24      Sensemania  06/01/1984   \n",
      "34         Eleanor  10/10/1987   \n",
      "...            ...         ...   \n",
      "13998        Angur  10/08/1958   \n",
      "14005  Delilah-Rae  06/06/2021   \n",
      "14008       Khalid  09/01/1972   \n",
      "14009         Azaz  26/03/1985   \n",
      "14011     Victoria  16/04/1970   \n",
      "\n",
      "                                                 address  priority      key   \n",
      "11     ADDERLEY HOUSE, BRIDGE ROAD, SALTLEY, BIRMINGH...         0  ROUTINE  \\\n",
      "17     FIELD VIEW RESIDENTIAL HOME, THE SLOUGH, REDDI...         0  ROUTINE   \n",
      "23     57, Gospel Farm Road, Acocks Green, Birmingham...         0  ROUTINE   \n",
      "24           100 MANNINGFORD ROAD, BIRMINGHAM, , B14 5LX         0  ROUTINE   \n",
      "34              108 GRAVELLY LANE, BIRMINGHAM, , B23 6LS         0  ROUTINE   \n",
      "...                                                  ...       ...      ...   \n",
      "13998              3 TAUNTON ROAD, BIRMINGHAM, , B12 8DE         0  ROUTINE   \n",
      "14005           11 CHESTNUT CROFT, BIRMINGHAM, , B29 4BW         0  ROUTINE   \n",
      "14008              135 BOWYER ROAD, BIRMINGHAM, , B8 1EY         0  ROUTINE   \n",
      "14009                49, Paisley Close, Luton, , LU4 9GF         0  ROUTINE   \n",
      "14011  7 OAKMEADOW AVENUE, ERDINGTON, BIRMINGHAM, , B...         0  ROUTINE   \n",
      "\n",
      "      Receive Time (Badger) first_call_attempt_timestamp   \n",
      "11               31/12/2023                          NaN  \\\n",
      "17               31/12/2023                          NaN   \n",
      "23               31/12/2023                          NaN   \n",
      "24               31/12/2023                          NaN   \n",
      "34               31/12/2023                          NaN   \n",
      "...                     ...                          ...   \n",
      "13998            01/12/2023                          NaN   \n",
      "14005            01/12/2023                      07:31.1   \n",
      "14008            01/12/2023                      47:31.3   \n",
      "14009            01/12/2023                          NaN   \n",
      "14011            01/12/2023                      42:30.8   \n",
      "\n",
      "      duration_from_creation_to_1st_call conversation_started_timestamp   \n",
      "11                                   NaN                            NaN  \\\n",
      "17                                   NaN                            NaN   \n",
      "23                                   NaN                            NaN   \n",
      "24                                   NaN                            NaN   \n",
      "34                                   NaN                            NaN   \n",
      "...                                  ...                            ...   \n",
      "13998                                NaN                            NaN   \n",
      "14005                            03:22.8                            NaN   \n",
      "14008                            03:38.5                            NaN   \n",
      "14009                                NaN                            NaN   \n",
      "14011                            09:29.0                            NaN   \n",
      "\n",
      "      duration_from_creation_to_1st_conversation_w_clinician   \n",
      "11                                                   NaN      \\\n",
      "17                                                   NaN       \n",
      "23                                                   NaN       \n",
      "24                                                   NaN       \n",
      "34                                                   NaN       \n",
      "...                                                  ...       \n",
      "13998                                                NaN       \n",
      "14005                                                NaN       \n",
      "14008                                                NaN       \n",
      "14009                                                NaN       \n",
      "14011                                                NaN       \n",
      "\n",
      "      reopened_timestamp completed_timestamp                         UniqueID  \n",
      "11                   NaN             56:58.2     ChristopherSharkey2499645291  \n",
      "17                   NaN             09:41.3        ValerieBlakeway1591445291  \n",
      "23                   NaN             52:52.3           NaziaParveen2785545291  \n",
      "24                   NaN             59:42.7        SensemaniaBlake3068745291  \n",
      "34                   NaN             33:30.1            EleanorLowe3206045291  \n",
      "...                  ...                 ...                              ...  \n",
      "13998                NaN             38:19.2              AngurMiah2140745261  \n",
      "14005                NaN             08:45.4  Delilah-RaeBravington4435345261  \n",
      "14008                NaN             33:47.2          KhalidHussain2630745261  \n",
      "14009                NaN             46:14.7            AzazUgradar3113245261  \n",
      "14011            07:44.4             08:03.7         VictoriaEbanks2567445261  \n",
      "\n",
      "[2271 rows x 16 columns]\n"
     ]
    }
   ],
   "source": [
    "# Assuming Ummanu is your DataFrame containing the data\n",
    "filtered_data3 = Ummanu3[Ummanu3['status'] == 'CANCELED']\n",
    "\n",
    "# Displaying other columns for all rows where status is 'cancelled'\n",
    "filtered_data3 = filtered_data3[['id', 'consultation_id', 'Surname', 'Forename', 'Dob', 'address', 'priority', 'key', 'Receive Time (Badger)', 'first_call_attempt_timestamp', 'duration_from_creation_to_1st_call', 'conversation_started_timestamp', 'duration_from_creation_to_1st_conversation_w_clinician', 'reopened_timestamp', 'completed_timestamp', 'UniqueID']]\n",
    "\n",
    "print(filtered_data3)"
   ],
   "metadata": {
    "collapsed": false,
    "ExecuteTime": {
     "end_time": "2024-04-02T12:37:52.929636Z",
     "start_time": "2024-04-02T12:37:52.900786500Z"
    }
   },
   "id": "9639821c6c28133c",
   "execution_count": 23
  },
  {
   "cell_type": "code",
   "outputs": [
    {
     "data": {
      "text/plain": "                                      id   consultation_id   Surname   \n11  488a2d19-8877-480e-89c2-f68aa3eb5ac2  170-406-502-6639   Sharkey  \\\n17  863dff1e-5118-4d48-865c-3ec1786d1ee3  170-406-408-8283  Blakeway   \n23  e18a93d2-feff-4e80-98ee-aa923a91e9ac  170-406-300-4001   Parveen   \n24  9435789b-8f0d-4b57-ac65-223738187201  170-406-292-8386     Blake   \n34  fcc64835-8d7f-487c-877b-a16d34eb19a0  170-406-178-1062      Lowe   \n\n       Forename         Dob   \n11  Christopher  07/06/1968  \\\n17      Valerie  27/07/1943   \n23        Nazia  05/04/1976   \n24   Sensemania  06/01/1984   \n34      Eleanor  10/10/1987   \n\n                                              address  priority      key   \n11  ADDERLEY HOUSE, BRIDGE ROAD, SALTLEY, BIRMINGH...         0  ROUTINE  \\\n17  FIELD VIEW RESIDENTIAL HOME, THE SLOUGH, REDDI...         0  ROUTINE   \n23  57, Gospel Farm Road, Acocks Green, Birmingham...         0  ROUTINE   \n24        100 MANNINGFORD ROAD, BIRMINGHAM, , B14 5LX         0  ROUTINE   \n34           108 GRAVELLY LANE, BIRMINGHAM, , B23 6LS         0  ROUTINE   \n\n   Receive Time (Badger) first_call_attempt_timestamp   \n11            31/12/2023                          NaN  \\\n17            31/12/2023                          NaN   \n23            31/12/2023                          NaN   \n24            31/12/2023                          NaN   \n34            31/12/2023                          NaN   \n\n   duration_from_creation_to_1st_call conversation_started_timestamp   \n11                                NaN                            NaN  \\\n17                                NaN                            NaN   \n23                                NaN                            NaN   \n24                                NaN                            NaN   \n34                                NaN                            NaN   \n\n   duration_from_creation_to_1st_conversation_w_clinician reopened_timestamp   \n11                                                NaN                    NaN  \\\n17                                                NaN                    NaN   \n23                                                NaN                    NaN   \n24                                                NaN                    NaN   \n34                                                NaN                    NaN   \n\n   completed_timestamp                      UniqueID  \n11             56:58.2  ChristopherSharkey2499645291  \n17             09:41.3     ValerieBlakeway1591445291  \n23             52:52.3        NaziaParveen2785545291  \n24             59:42.7     SensemaniaBlake3068745291  \n34             33:30.1         EleanorLowe3206045291  ",
      "text/html": "<div>\n<style scoped>\n    .dataframe tbody tr th:only-of-type {\n        vertical-align: middle;\n    }\n\n    .dataframe tbody tr th {\n        vertical-align: top;\n    }\n\n    .dataframe thead th {\n        text-align: right;\n    }\n</style>\n<table border=\"1\" class=\"dataframe\">\n  <thead>\n    <tr style=\"text-align: right;\">\n      <th></th>\n      <th>id</th>\n      <th>consultation_id</th>\n      <th>Surname</th>\n      <th>Forename</th>\n      <th>Dob</th>\n      <th>address</th>\n      <th>priority</th>\n      <th>key</th>\n      <th>Receive Time (Badger)</th>\n      <th>first_call_attempt_timestamp</th>\n      <th>duration_from_creation_to_1st_call</th>\n      <th>conversation_started_timestamp</th>\n      <th>duration_from_creation_to_1st_conversation_w_clinician</th>\n      <th>reopened_timestamp</th>\n      <th>completed_timestamp</th>\n      <th>UniqueID</th>\n    </tr>\n  </thead>\n  <tbody>\n    <tr>\n      <th>11</th>\n      <td>488a2d19-8877-480e-89c2-f68aa3eb5ac2</td>\n      <td>170-406-502-6639</td>\n      <td>Sharkey</td>\n      <td>Christopher</td>\n      <td>07/06/1968</td>\n      <td>ADDERLEY HOUSE, BRIDGE ROAD, SALTLEY, BIRMINGH...</td>\n      <td>0</td>\n      <td>ROUTINE</td>\n      <td>31/12/2023</td>\n      <td>NaN</td>\n      <td>NaN</td>\n      <td>NaN</td>\n      <td>NaN</td>\n      <td>NaN</td>\n      <td>56:58.2</td>\n      <td>ChristopherSharkey2499645291</td>\n    </tr>\n    <tr>\n      <th>17</th>\n      <td>863dff1e-5118-4d48-865c-3ec1786d1ee3</td>\n      <td>170-406-408-8283</td>\n      <td>Blakeway</td>\n      <td>Valerie</td>\n      <td>27/07/1943</td>\n      <td>FIELD VIEW RESIDENTIAL HOME, THE SLOUGH, REDDI...</td>\n      <td>0</td>\n      <td>ROUTINE</td>\n      <td>31/12/2023</td>\n      <td>NaN</td>\n      <td>NaN</td>\n      <td>NaN</td>\n      <td>NaN</td>\n      <td>NaN</td>\n      <td>09:41.3</td>\n      <td>ValerieBlakeway1591445291</td>\n    </tr>\n    <tr>\n      <th>23</th>\n      <td>e18a93d2-feff-4e80-98ee-aa923a91e9ac</td>\n      <td>170-406-300-4001</td>\n      <td>Parveen</td>\n      <td>Nazia</td>\n      <td>05/04/1976</td>\n      <td>57, Gospel Farm Road, Acocks Green, Birmingham...</td>\n      <td>0</td>\n      <td>ROUTINE</td>\n      <td>31/12/2023</td>\n      <td>NaN</td>\n      <td>NaN</td>\n      <td>NaN</td>\n      <td>NaN</td>\n      <td>NaN</td>\n      <td>52:52.3</td>\n      <td>NaziaParveen2785545291</td>\n    </tr>\n    <tr>\n      <th>24</th>\n      <td>9435789b-8f0d-4b57-ac65-223738187201</td>\n      <td>170-406-292-8386</td>\n      <td>Blake</td>\n      <td>Sensemania</td>\n      <td>06/01/1984</td>\n      <td>100 MANNINGFORD ROAD, BIRMINGHAM, , B14 5LX</td>\n      <td>0</td>\n      <td>ROUTINE</td>\n      <td>31/12/2023</td>\n      <td>NaN</td>\n      <td>NaN</td>\n      <td>NaN</td>\n      <td>NaN</td>\n      <td>NaN</td>\n      <td>59:42.7</td>\n      <td>SensemaniaBlake3068745291</td>\n    </tr>\n    <tr>\n      <th>34</th>\n      <td>fcc64835-8d7f-487c-877b-a16d34eb19a0</td>\n      <td>170-406-178-1062</td>\n      <td>Lowe</td>\n      <td>Eleanor</td>\n      <td>10/10/1987</td>\n      <td>108 GRAVELLY LANE, BIRMINGHAM, , B23 6LS</td>\n      <td>0</td>\n      <td>ROUTINE</td>\n      <td>31/12/2023</td>\n      <td>NaN</td>\n      <td>NaN</td>\n      <td>NaN</td>\n      <td>NaN</td>\n      <td>NaN</td>\n      <td>33:30.1</td>\n      <td>EleanorLowe3206045291</td>\n    </tr>\n  </tbody>\n</table>\n</div>"
     },
     "execution_count": 25,
     "metadata": {},
     "output_type": "execute_result"
    }
   ],
   "source": [
    "filtered_data3.head()"
   ],
   "metadata": {
    "collapsed": false,
    "ExecuteTime": {
     "end_time": "2024-04-02T12:38:58.251185900Z",
     "start_time": "2024-04-02T12:38:58.220376600Z"
    }
   },
   "id": "4043d88f16eb520e",
   "execution_count": 25
  },
  {
   "cell_type": "markdown",
   "source": [
    "Find the match between Ummanu and Adastra, Dec 2023"
   ],
   "metadata": {
    "collapsed": false
   },
   "id": "7066545b8c758d62"
  },
  {
   "cell_type": "code",
   "outputs": [
    {
     "name": "stdout",
     "output_type": "stream",
     "text": [
      "      Case No Operator Who Received Case Reported Condition   \n",
      "0       33574                        NaN                NaN  \\\n",
      "1       33572                        NaN                NaN   \n",
      "2       33581                        NaN                NaN   \n",
      "3       33575                        NaN                NaN   \n",
      "4       33578                        NaN                NaN   \n",
      "...       ...                        ...                ...   \n",
      "2160    54138                        NaN                NaN   \n",
      "2161    54143                        NaN                NaN   \n",
      "2162    54159                        NaN                NaN   \n",
      "2163    54160                        NaN                NaN   \n",
      "2164    54166                        NaN                NaN   \n",
      "\n",
      "     Receive Time (Badger)     Forename     Surname Sex         Dob   \n",
      "0               01/12/2023         Azaz     Ugradar   M  26/03/1985  \\\n",
      "1               01/12/2023     Victoria      Ebanks   F  16/04/1970   \n",
      "2               01/12/2023     Victoria      Ebanks   F  16/04/1970   \n",
      "3               01/12/2023       Khalid     Hussain   M  09/01/1972   \n",
      "4               01/12/2023  Delilah-Rae  Bravington   F  06/06/2021   \n",
      "...                    ...          ...         ...  ..         ...   \n",
      "2160            31/12/2023         Alex       Locke   M  14/06/2004   \n",
      "2161            31/12/2023        Musab       Hersi   M  05/04/2011   \n",
      "2162            31/12/2023   Sensemania       Blake   F  06/01/1984   \n",
      "2163            31/12/2023        Nazia     Parveen   F  05/04/1976   \n",
      "2164            31/12/2023      Valerie    Blakeway   F  27/07/1943   \n",
      "\n",
      "            Age     Ethnicity  ...   \n",
      "0      38 years  Not Recorded  ...  \\\n",
      "1      53 years    Not stated  ...   \n",
      "2      53 years    Not stated  ...   \n",
      "3      51 years  Not Recorded  ...   \n",
      "4     29 months  Not Recorded  ...   \n",
      "...         ...           ...  ...   \n",
      "2160   19 years  Not Recorded  ...   \n",
      "2161   12 years  Not Recorded  ...   \n",
      "2162   39 years  Not Recorded  ...   \n",
      "2163   47 years  Not Recorded  ...   \n",
      "2164   80 years  Not Recorded  ...   \n",
      "\n",
      "                                                address priority      key   \n",
      "0                   49, Paisley Close, Luton, , LU4 9GF        0  ROUTINE  \\\n",
      "1     7 OAKMEADOW AVENUE, ERDINGTON, BIRMINGHAM, , B...        0  ROUTINE   \n",
      "2     7 OAKMEADOW AVENUE, ERDINGTON, BIRMINGHAM, , B...        0  ROUTINE   \n",
      "3                 135 BOWYER ROAD, BIRMINGHAM, , B8 1EY        0  ROUTINE   \n",
      "4              11 CHESTNUT CROFT, BIRMINGHAM, , B29 4BW        0  ROUTINE   \n",
      "...                                                 ...      ...      ...   \n",
      "2160                 14 IRVINE ROAD, WALSALL, , WS3 2EA        0  ROUTINE   \n",
      "2161            62 Heaton Street, Birmingham, , B18 5BB        0  ROUTINE   \n",
      "2162        100 MANNINGFORD ROAD, BIRMINGHAM, , B14 5LX        0  ROUTINE   \n",
      "2163  57, Gospel Farm Road, Acocks Green, Birmingham...        0  ROUTINE   \n",
      "2164  FIELD VIEW RESIDENTIAL HOME, THE SLOUGH, REDDI...        0  ROUTINE   \n",
      "\n",
      "     first_call_attempt_timestamp duration_from_creation_to_1st_call   \n",
      "0                             NaN                                NaN  \\\n",
      "1                         42:30.8                            09:29.0   \n",
      "2                         42:30.8                            09:29.0   \n",
      "3                         47:31.3                            03:38.5   \n",
      "4                         07:31.1                            03:22.8   \n",
      "...                           ...                                ...   \n",
      "2160                          NaN                                NaN   \n",
      "2161                          NaN                                NaN   \n",
      "2162                          NaN                                NaN   \n",
      "2163                          NaN                                NaN   \n",
      "2164                          NaN                                NaN   \n",
      "\n",
      "     conversation_started_timestamp   \n",
      "0                               NaN  \\\n",
      "1                               NaN   \n",
      "2                               NaN   \n",
      "3                               NaN   \n",
      "4                               NaN   \n",
      "...                             ...   \n",
      "2160                            NaN   \n",
      "2161                            NaN   \n",
      "2162                            NaN   \n",
      "2163                            NaN   \n",
      "2164                            NaN   \n",
      "\n",
      "     duration_from_creation_to_1st_conversation_w_clinician   \n",
      "0                                                   NaN      \\\n",
      "1                                                   NaN       \n",
      "2                                                   NaN       \n",
      "3                                                   NaN       \n",
      "4                                                   NaN       \n",
      "...                                                 ...       \n",
      "2160                                                NaN       \n",
      "2161                                                NaN       \n",
      "2162                                                NaN       \n",
      "2163                                                NaN       \n",
      "2164                                                NaN       \n",
      "\n",
      "     reopened_timestamp completed_timestamp                       UniqueID_y  \n",
      "0                   NaN             46:14.7            AzazUgradar3113245261  \n",
      "1               07:44.4             08:03.7         VictoriaEbanks2567445261  \n",
      "2               07:44.4             08:03.7         VictoriaEbanks2567445261  \n",
      "3                   NaN             33:47.2          KhalidHussain2630745261  \n",
      "4                   NaN             08:45.4  Delilah-RaeBravington4435345261  \n",
      "...                 ...                 ...                              ...  \n",
      "2160                NaN             21:21.2              AlexLocke3815245291  \n",
      "2161                NaN             21:11.0             MusabHersi4063845291  \n",
      "2162                NaN             59:42.7        SensemaniaBlake3068745291  \n",
      "2163                NaN             52:52.3           NaziaParveen2785545291  \n",
      "2164                NaN             09:41.3        ValerieBlakeway1591445291  \n",
      "\n",
      "[2165 rows x 84 columns]\n"
     ]
    }
   ],
   "source": [
    "# The merge function to find matches based on common columns\n",
    "matches3 = pd.merge(Adastra3[['Case No', 'Operator Who Received Case', 'Reported Condition',\n",
    "       'Receive Time (Badger)', 'Forename', 'Surname', 'Sex', 'Dob', 'Age',\n",
    "       'Ethnicity', 'Address Line1', 'Address Line2', 'Address Line3',\n",
    "       'Postcode', 'Home Phone', 'Current Address Line1',\n",
    "       'Current Address Line2', 'Current Address Line3', 'Current Postcode',\n",
    "       'Return Phone No', 'Clinicians Name', 'Provider Group', 'PG Code',\n",
    "       'Call Origin', 'Caller Name', 'Caller Phone', 'Initial Case Type',\n",
    "       'Final Case Type', 'Reception Priority', 'Priority After Assessment',\n",
    "       'Latest Priority', 'Location Name', 'Comfort Call', 'Booked Date',\n",
    "       'PCC Arrival', 'Despatch Time', 'Doctor Arrived',\n",
    "       'Initial Case Rec Time', '1st Cons Summary', '1st Cons History',\n",
    "       '1st Cons Examination', '1st Cons Diagnosis', '1st Cons Treatment',\n",
    "       '1st Cons Began Time', '1st Cons End Time', '1st Cons Clinicians Name',\n",
    "       '1st Cons Prov Type', 'Last Cons Summary', 'Last Cons History',\n",
    "       'Last Cons Examination', 'Last Cons Diagnosis', 'Last Cons Treatment',\n",
    "       'Last Cons Begin Time', 'Last Cons End Time',\n",
    "       'Last Cons Clinicians Name', 'Last Cons Prov Type', 'Clinical Codes',\n",
    "       'Examination Details', 'Prescriptions', 'Followup With Comments',\n",
    "       'NHS Number', 'Externally Received', 'CGU Tag Summary',\n",
    "       'Case Tag Description', 'Case Tag', 'Outcome Mapping DX Code',\n",
    "       '2nd Consultation Start Date Time', '2nd Consultation End Date Time',\n",
    "       'Clinician Name', 'Received From', 'Site', 'Ext Case ID',\n",
    "       'Ext Case Ref', 'UniqueID']], filtered_data3[['Forename', 'Surname', 'Dob', 'Receive Time (Badger)','address', 'priority', 'key', 'first_call_attempt_timestamp', 'duration_from_creation_to_1st_call', 'conversation_started_timestamp', 'duration_from_creation_to_1st_conversation_w_clinician', 'reopened_timestamp', 'completed_timestamp', 'UniqueID']], on=['Forename', 'Surname', 'Dob', 'Receive Time (Badger)'], how='inner')\n",
    "\n",
    "print(matches3)"
   ],
   "metadata": {
    "collapsed": false,
    "ExecuteTime": {
     "end_time": "2024-04-02T12:45:41.757042100Z",
     "start_time": "2024-04-02T12:45:41.688141800Z"
    }
   },
   "id": "f04a6d6a7517d285",
   "execution_count": 26
  },
  {
   "cell_type": "code",
   "outputs": [
    {
     "name": "stdout",
     "output_type": "stream",
     "text": [
      "Matched data from Adastra_Report saved to Dec_fullinsights2023.csv\n"
     ]
    }
   ],
   "source": [
    "# Save the merged data to a new CSV file\n",
    "matches3.to_csv(r'C:\\Users\\Fredrick.Alli\\OneDrive - Badger Medical\\Py\\PycharmProjects\\Finding the matches between Ummanu(status=cancelled and Adastra)\\Ummanu and Adastra Match\\Dec_fullinsights2023.csv', index=False)\n",
    "\n",
    "print(\"Matched data from Adastra_Report saved to Dec_fullinsights2023.csv\")"
   ],
   "metadata": {
    "collapsed": false,
    "ExecuteTime": {
     "end_time": "2024-04-02T12:47:27.168977800Z",
     "start_time": "2024-04-02T12:47:27.099805700Z"
    }
   },
   "id": "88e2d676593eb566",
   "execution_count": 27
  },
  {
   "cell_type": "markdown",
   "source": [
    "Make Oct Insight 2023 age numeric"
   ],
   "metadata": {
    "collapsed": false
   },
   "id": "4f704bd12a2fcbb7"
  },
  {
   "cell_type": "code",
   "outputs": [],
   "source": [
    "import pandas as pd\n",
    "\n",
    "# Load the dataset\n",
    "data = pd.read_csv('Oct_fullinsights2023.csv')\n",
    "\n",
    "# Define the function to convert the age strings\n",
    "def convert_age_to_numeric(age_str):\n",
    "    if pd.isnull(age_str):\n",
    "        return None\n",
    "    if 'year' in age_str:\n",
    "        return int(age_str.split(' ')[0])\n",
    "    if 'month' in age_str:\n",
    "        return int(age_str.split(' ')[0]) / 12\n",
    "    if 'week' in age_str:\n",
    "        return int(age_str.split(' ')[0]) / 52\n",
    "    if 'day' in age_str:\n",
    "        return int(age_str.split(' ')[0]) / 365\n",
    "    return None\n",
    "\n",
    "# Apply the function to the 'Age' column\n",
    "data['Age_numeric'] = data['Age'].apply(convert_age_to_numeric)\n",
    "\n",
    "# Save the updated DataFrame to a new CSV file\n",
    "data.to_csv(r'C:\\Users\\Fredrick.Alli\\OneDrive - Badger Medical\\Py\\PycharmProjects\\Finding the matches between Ummanu(status=cancelled and Adastra)\\Ummanu and Adastra Match\\Oct_fullerinsights2023.csv', index=False)\n"
   ],
   "metadata": {
    "collapsed": false,
    "ExecuteTime": {
     "end_time": "2024-04-02T13:51:28.021822900Z",
     "start_time": "2024-04-02T13:51:27.928032300Z"
    }
   },
   "id": "7a0c61844eed237d",
   "execution_count": 28
  },
  {
   "cell_type": "code",
   "outputs": [],
   "source": [],
   "metadata": {
    "collapsed": false
   },
   "id": "8a5d2da7d7b1d5c"
  }
 ],
 "metadata": {
  "kernelspec": {
   "display_name": "Python 3",
   "language": "python",
   "name": "python3"
  },
  "language_info": {
   "codemirror_mode": {
    "name": "ipython",
    "version": 2
   },
   "file_extension": ".py",
   "mimetype": "text/x-python",
   "name": "python",
   "nbconvert_exporter": "python",
   "pygments_lexer": "ipython2",
   "version": "2.7.6"
  }
 },
 "nbformat": 4,
 "nbformat_minor": 5
}
