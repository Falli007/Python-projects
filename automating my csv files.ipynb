{
 "cells": [
  {
   "cell_type": "code",
   "outputs": [
    {
     "name": "stdout",
     "output_type": "stream",
     "text": [
      "All CSV files have been combined into C:/Users/Fredrick.Alli/OneDrive - Badger Medical/Demographic Data\\combined_data.csv.\n"
     ]
    }
   ],
   "source": [
    "\n",
    "# Specify the directory containing the CSV files\n",
    "directory = \"C:/Users/Fredrick.Alli/OneDrive - Badger Medical/Demographic Data\"\n",
    "\n",
    "# Initialize a list to hold all the DataFrames\n",
    "dataframes = []\n",
    "\n",
    "# Loop through the files in the directory\n",
    "for filename in os.listdir(directory):\n",
    "    if filename.endswith(\".csv\"):\n",
    "        # Construct the full file path\n",
    "        file_path = os.path.join(directory, filename)\n",
    "\n",
    "        # Read the CSV file\n",
    "        df = pd.read_csv(file_path)\n",
    "\n",
    "        # Add the DataFrame to the list\n",
    "        dataframes.append(df)\n",
    "\n",
    "# Concatenate all the DataFrames in the list\n",
    "all_data = pd.concat(dataframes, ignore_index=True)\n",
    "\n",
    "# Specify the path for the combined CSV file\n",
    "combined_csv_path = os.path.join(directory, \"combined_data.csv\")\n",
    "\n",
    "# Save the combined data to a new CSV file\n",
    "all_data.to_csv(combined_csv_path, index=False)\n",
    "\n",
    "print(f\"All CSV files have been combined into {combined_csv_path}.\")"
   ],
   "metadata": {
    "collapsed": false,
    "ExecuteTime": {
     "end_time": "2024-03-15T11:25:27.977187Z",
     "start_time": "2024-03-15T11:22:34.550175500Z"
    }
   },
   "id": "cda4c6f078c2f4ef",
   "execution_count": 9
  },
  {
   "cell_type": "code",
   "outputs": [
    {
     "name": "stdout",
     "output_type": "stream",
     "text": [
      "All CSV files have been combined into C:/Users/Fredrick.Alli/OneDrive - Badger Medical/Demographic Data\\combined_data.csv.\n"
     ]
    }
   ],
   "source": [
    "import os\n",
    "import pandas as pd\n",
    "\n",
    "# Specify the directory containing the CSV files\n",
    "directory = \"C:/Users/Fredrick.Alli/OneDrive - Badger Medical/Demographic Data\"\n",
    "\n",
    "# Initialize a list to hold all DataFrames\n",
    "dataframes = []\n",
    "\n",
    "# Loop through the files in the directory\n",
    "for filename in os.listdir(directory):\n",
    "    if filename.endswith(\".csv\"):\n",
    "        # Construct the full file path\n",
    "        file_path = os.path.join(directory, filename)\n",
    "\n",
    "        # Read the CSV file, you can add dtype=str if you want to ensure all data is read as string to avoid mixed types\n",
    "        df = pd.read_csv(file_path, dtype=str, low_memory=False)\n",
    "\n",
    "        # Add the DataFrame to the list\n",
    "        dataframes.append(df)\n",
    "\n",
    "# Concatenate all DataFrames in the list\n",
    "all_data = pd.concat(dataframes, ignore_index=True)\n",
    "\n",
    "# Specify the path for the combined CSV file\n",
    "combined_csv_path = os.path.join(directory, \"combined_data.csv\")\n",
    "\n",
    "# Save the combined data to a new CSV file\n",
    "all_data.to_csv(combined_csv_path, index=False)\n",
    "\n",
    "print(f\"All CSV files have been combined into {combined_csv_path}.\")"
   ],
   "metadata": {
    "collapsed": false,
    "ExecuteTime": {
     "end_time": "2024-03-15T11:35:22.872847900Z",
     "start_time": "2024-03-15T11:35:09.063217600Z"
    }
   },
   "id": "c11c4a3d11f1bbbd",
   "execution_count": 15
  }
 ],
 "metadata": {
  "kernelspec": {
   "display_name": "Python 3",
   "language": "python",
   "name": "python3"
  },
  "language_info": {
   "codemirror_mode": {
    "name": "ipython",
    "version": 2
   },
   "file_extension": ".py",
   "mimetype": "text/x-python",
   "name": "python",
   "nbconvert_exporter": "python",
   "pygments_lexer": "ipython2",
   "version": "2.7.6"
  }
 },
 "nbformat": 4,
 "nbformat_minor": 5
}
