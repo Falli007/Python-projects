{
 "cells": [
  {
   "cell_type": "code",
   "execution_count": 1,
   "id": "initial_id",
   "metadata": {
    "collapsed": true,
    "ExecuteTime": {
     "end_time": "2024-03-18T09:23:52.487060300Z",
     "start_time": "2024-03-18T09:23:52.484094Z"
    }
   },
   "outputs": [],
   "source": [
    "import pandas as pd \n",
    "import numpy as np \n",
    "import matplotlib.pyplot as plt\n",
    "import seaborn as sns"
   ]
  },
  {
   "cell_type": "code",
   "outputs": [
    {
     "name": "stderr",
     "output_type": "stream",
     "text": [
      "C:\\Users\\Fredrick.Alli\\AppData\\Local\\Temp\\ipykernel_27244\\637966780.py:1: DtypeWarning: Columns (53) have mixed types. Specify dtype option on import or set low_memory=False.\n",
      "  Data = pd.read_csv(r\"C:\\Users\\Fredrick.Alli\\OneDrive - Badger Medical\\Demographic Data\\combined_data.csv\")\n"
     ]
    }
   ],
   "source": [
    "Data = pd.read_csv(r\"C:\\Users\\Fredrick.Alli\\OneDrive - Badger Medical\\Demographic Data\\combined_data.csv\")\n"
   ],
   "metadata": {
    "collapsed": false,
    "ExecuteTime": {
     "end_time": "2024-03-18T09:29:21.268803300Z",
     "start_time": "2024-03-18T09:29:18.237250200Z"
    }
   },
   "id": "87d16031597cc398",
   "execution_count": 2
  },
  {
   "cell_type": "code",
   "outputs": [
    {
     "data": {
      "text/plain": "   Case No Operator Who Received Case Reported Condition  \\\n0    62245                        NaN                NaN   \n1    62246                        NaN                NaN   \n2    62248                        NaN                NaN   \n3    62249                        NaN                NaN   \n4    62252                        NaN                NaN   \n\n  Receive Date and Time (Badger) Receive Date (Badger) Receive Time (Badger)  \\\n0                     01/01/2023            01/01/2023              00:12:19   \n1                     01/01/2023            01/01/2023              00:13:09   \n2                     01/01/2023            01/01/2023              00:25:10   \n3                     01/01/2023            01/01/2023              00:28:02   \n4                     01/01/2023            01/01/2023              00:43:50   \n\n          Forename   Surname Sex               Dob  ... CGU Tag Summary  \\\n0  Ferenc Laszlone     Peter   F  22/05/1965 00:00  ...             NaN   \n1           Madiha     Rafiq   F  21/08/1985 00:00  ...             NaN   \n2          Khadija     Saidi   F  11/11/2022 00:00  ...             NaN   \n3             Wing        Ip   F  07/04/1986 00:00  ...             NaN   \n4           Harvey  Dalglish   M  26/04/2001 00:00  ...             NaN   \n\n  Case Tag Description Case Tag  \\\n0                  NaN      NaN   \n1                  NaN      NaN   \n2                  NaN      NaN   \n3                  NaN      NaN   \n4                  NaN      NaN   \n\n                             Outcome Mapping DX Code  \\\n0  Outcome mapping initiated (APINHS111, 13203229...   \n1  Outcome mapping initiated (APINHS111, 13203229...   \n2  Outcome mapping initiated (APINHS111, 13203229...   \n3  Outcome mapping initiated (APINHS111, 13203229...   \n4  Outcome mapping initiated (APINHS111, 13203229...   \n\n  2nd Consultation Start Date Time 2nd Consultation End Date Time  \\\n0                              NaN                            NaN   \n1                              NaN                            NaN   \n2                              NaN                            NaN   \n3                              NaN                            NaN   \n4                              NaN                            NaN   \n\n  Clinician Name                              Received From   Site  \\\n0            NaN                                   WMAS 111  RYA06   \n1            NaN                                   WMAS 111  RYA06   \n2            NaN                                   WMAS 111  RYA06   \n3            NaN                                   WMAS 111  RYA06   \n4            NaN  West Midlands Ambulance Service NHS Trust    RYA   \n\n     Ext Case ID  \n0  20230101-0029  \n1  20230101-0010  \n2  20230101-0075  \n3  20230101-0083  \n4  20230101-0184  \n\n[5 rows x 63 columns]",
      "text/html": "<div>\n<style scoped>\n    .dataframe tbody tr th:only-of-type {\n        vertical-align: middle;\n    }\n\n    .dataframe tbody tr th {\n        vertical-align: top;\n    }\n\n    .dataframe thead th {\n        text-align: right;\n    }\n</style>\n<table border=\"1\" class=\"dataframe\">\n  <thead>\n    <tr style=\"text-align: right;\">\n      <th></th>\n      <th>Case No</th>\n      <th>Operator Who Received Case</th>\n      <th>Reported Condition</th>\n      <th>Receive Date and Time (Badger)</th>\n      <th>Receive Date (Badger)</th>\n      <th>Receive Time (Badger)</th>\n      <th>Forename</th>\n      <th>Surname</th>\n      <th>Sex</th>\n      <th>Dob</th>\n      <th>...</th>\n      <th>CGU Tag Summary</th>\n      <th>Case Tag Description</th>\n      <th>Case Tag</th>\n      <th>Outcome Mapping DX Code</th>\n      <th>2nd Consultation Start Date Time</th>\n      <th>2nd Consultation End Date Time</th>\n      <th>Clinician Name</th>\n      <th>Received From</th>\n      <th>Site</th>\n      <th>Ext Case ID</th>\n    </tr>\n  </thead>\n  <tbody>\n    <tr>\n      <th>0</th>\n      <td>62245</td>\n      <td>NaN</td>\n      <td>NaN</td>\n      <td>01/01/2023</td>\n      <td>01/01/2023</td>\n      <td>00:12:19</td>\n      <td>Ferenc Laszlone</td>\n      <td>Peter</td>\n      <td>F</td>\n      <td>22/05/1965 00:00</td>\n      <td>...</td>\n      <td>NaN</td>\n      <td>NaN</td>\n      <td>NaN</td>\n      <td>Outcome mapping initiated (APINHS111, 13203229...</td>\n      <td>NaN</td>\n      <td>NaN</td>\n      <td>NaN</td>\n      <td>WMAS 111</td>\n      <td>RYA06</td>\n      <td>20230101-0029</td>\n    </tr>\n    <tr>\n      <th>1</th>\n      <td>62246</td>\n      <td>NaN</td>\n      <td>NaN</td>\n      <td>01/01/2023</td>\n      <td>01/01/2023</td>\n      <td>00:13:09</td>\n      <td>Madiha</td>\n      <td>Rafiq</td>\n      <td>F</td>\n      <td>21/08/1985 00:00</td>\n      <td>...</td>\n      <td>NaN</td>\n      <td>NaN</td>\n      <td>NaN</td>\n      <td>Outcome mapping initiated (APINHS111, 13203229...</td>\n      <td>NaN</td>\n      <td>NaN</td>\n      <td>NaN</td>\n      <td>WMAS 111</td>\n      <td>RYA06</td>\n      <td>20230101-0010</td>\n    </tr>\n    <tr>\n      <th>2</th>\n      <td>62248</td>\n      <td>NaN</td>\n      <td>NaN</td>\n      <td>01/01/2023</td>\n      <td>01/01/2023</td>\n      <td>00:25:10</td>\n      <td>Khadija</td>\n      <td>Saidi</td>\n      <td>F</td>\n      <td>11/11/2022 00:00</td>\n      <td>...</td>\n      <td>NaN</td>\n      <td>NaN</td>\n      <td>NaN</td>\n      <td>Outcome mapping initiated (APINHS111, 13203229...</td>\n      <td>NaN</td>\n      <td>NaN</td>\n      <td>NaN</td>\n      <td>WMAS 111</td>\n      <td>RYA06</td>\n      <td>20230101-0075</td>\n    </tr>\n    <tr>\n      <th>3</th>\n      <td>62249</td>\n      <td>NaN</td>\n      <td>NaN</td>\n      <td>01/01/2023</td>\n      <td>01/01/2023</td>\n      <td>00:28:02</td>\n      <td>Wing</td>\n      <td>Ip</td>\n      <td>F</td>\n      <td>07/04/1986 00:00</td>\n      <td>...</td>\n      <td>NaN</td>\n      <td>NaN</td>\n      <td>NaN</td>\n      <td>Outcome mapping initiated (APINHS111, 13203229...</td>\n      <td>NaN</td>\n      <td>NaN</td>\n      <td>NaN</td>\n      <td>WMAS 111</td>\n      <td>RYA06</td>\n      <td>20230101-0083</td>\n    </tr>\n    <tr>\n      <th>4</th>\n      <td>62252</td>\n      <td>NaN</td>\n      <td>NaN</td>\n      <td>01/01/2023</td>\n      <td>01/01/2023</td>\n      <td>00:43:50</td>\n      <td>Harvey</td>\n      <td>Dalglish</td>\n      <td>M</td>\n      <td>26/04/2001 00:00</td>\n      <td>...</td>\n      <td>NaN</td>\n      <td>NaN</td>\n      <td>NaN</td>\n      <td>Outcome mapping initiated (APINHS111, 13203229...</td>\n      <td>NaN</td>\n      <td>NaN</td>\n      <td>NaN</td>\n      <td>West Midlands Ambulance Service NHS Trust</td>\n      <td>RYA</td>\n      <td>20230101-0184</td>\n    </tr>\n  </tbody>\n</table>\n<p>5 rows × 63 columns</p>\n</div>"
     },
     "execution_count": 3,
     "metadata": {},
     "output_type": "execute_result"
    }
   ],
   "source": [
    "Data.head()"
   ],
   "metadata": {
    "collapsed": false,
    "ExecuteTime": {
     "end_time": "2024-03-18T09:30:15.910540800Z",
     "start_time": "2024-03-18T09:30:15.878302300Z"
    }
   },
   "id": "13690c13dd0ebd6b",
   "execution_count": 3
  },
  {
   "cell_type": "code",
   "outputs": [
    {
     "name": "stdout",
     "output_type": "stream",
     "text": [
      "Number of missing values in each column:\n",
      "Case No                                0\n",
      "Operator Who Received Case        146563\n",
      "Reported Condition                146563\n",
      "Receive Date and Time (Badger)         0\n",
      "Receive Date (Badger)                  0\n",
      "                                   ...  \n",
      "2nd Consultation End Date Time    168060\n",
      "Clinician Name                    168073\n",
      "Received From                      65410\n",
      "Site                               66621\n",
      "Ext Case ID                        65411\n",
      "Length: 63, dtype: int64\n"
     ]
    }
   ],
   "source": [
    "# Find the number of missing values in each column\n",
    "missing_values = Data.isnull().sum()\n",
    "\n",
    "# Print the number of missing values in each column\n",
    "print(\"Number of missing values in each column:\")\n",
    "print(missing_values)"
   ],
   "metadata": {
    "collapsed": false,
    "ExecuteTime": {
     "end_time": "2024-03-18T09:31:56.228105100Z",
     "start_time": "2024-03-18T09:31:55.978182600Z"
    }
   },
   "id": "e62a62851bf710f2",
   "execution_count": 4
  },
  {
   "cell_type": "markdown",
   "source": [
    "Replacing missing values "
   ],
   "metadata": {
    "collapsed": false
   },
   "id": "2bae691381678a71"
  },
  {
   "cell_type": "code",
   "outputs": [
    {
     "name": "stdout",
     "output_type": "stream",
     "text": [
      "   Case No Operator Who Received Case Reported Condition  \\\n",
      "0    62245               Not recorded       Not recorded   \n",
      "1    62246               Not recorded       Not recorded   \n",
      "2    62248               Not recorded       Not recorded   \n",
      "3    62249               Not recorded       Not recorded   \n",
      "4    62252               Not recorded       Not recorded   \n",
      "\n",
      "  Receive Date and Time (Badger) Receive Date (Badger) Receive Time (Badger)  \\\n",
      "0                     01/01/2023            01/01/2023              00:12:19   \n",
      "1                     01/01/2023            01/01/2023              00:13:09   \n",
      "2                     01/01/2023            01/01/2023              00:25:10   \n",
      "3                     01/01/2023            01/01/2023              00:28:02   \n",
      "4                     01/01/2023            01/01/2023              00:43:50   \n",
      "\n",
      "          Forename   Surname Sex               Dob  ... CGU Tag Summary  \\\n",
      "0  Ferenc Laszlone     Peter   F  22/05/1965 00:00  ...    Not recorded   \n",
      "1           Madiha     Rafiq   F  21/08/1985 00:00  ...    Not recorded   \n",
      "2          Khadija     Saidi   F  11/11/2022 00:00  ...    Not recorded   \n",
      "3             Wing        Ip   F  07/04/1986 00:00  ...    Not recorded   \n",
      "4           Harvey  Dalglish   M  26/04/2001 00:00  ...    Not recorded   \n",
      "\n",
      "  Case Tag Description      Case Tag  \\\n",
      "0         Not recorded  Not recorded   \n",
      "1         Not recorded  Not recorded   \n",
      "2         Not recorded  Not recorded   \n",
      "3         Not recorded  Not recorded   \n",
      "4         Not recorded  Not recorded   \n",
      "\n",
      "                             Outcome Mapping DX Code  \\\n",
      "0  Outcome mapping initiated (APINHS111, 13203229...   \n",
      "1  Outcome mapping initiated (APINHS111, 13203229...   \n",
      "2  Outcome mapping initiated (APINHS111, 13203229...   \n",
      "3  Outcome mapping initiated (APINHS111, 13203229...   \n",
      "4  Outcome mapping initiated (APINHS111, 13203229...   \n",
      "\n",
      "  2nd Consultation Start Date Time 2nd Consultation End Date Time  \\\n",
      "0                     Not recorded                   Not recorded   \n",
      "1                     Not recorded                   Not recorded   \n",
      "2                     Not recorded                   Not recorded   \n",
      "3                     Not recorded                   Not recorded   \n",
      "4                     Not recorded                   Not recorded   \n",
      "\n",
      "  Clinician Name                              Received From   Site  \\\n",
      "0   Not recorded                                   WMAS 111  RYA06   \n",
      "1   Not recorded                                   WMAS 111  RYA06   \n",
      "2   Not recorded                                   WMAS 111  RYA06   \n",
      "3   Not recorded                                   WMAS 111  RYA06   \n",
      "4   Not recorded  West Midlands Ambulance Service NHS Trust    RYA   \n",
      "\n",
      "     Ext Case ID  \n",
      "0  20230101-0029  \n",
      "1  20230101-0010  \n",
      "2  20230101-0075  \n",
      "3  20230101-0083  \n",
      "4  20230101-0184  \n",
      "\n",
      "[5 rows x 63 columns]\n"
     ]
    }
   ],
   "source": [
    "\n",
    "# Replace missing values in all columns with 'Not recorded'\n",
    "Data_filled = Data.fillna('Not recorded')\n",
    "\n",
    "# Display the first few rows of the modified dataset\n",
    "print(Data_filled.head())"
   ],
   "metadata": {
    "collapsed": false,
    "ExecuteTime": {
     "end_time": "2024-03-18T09:37:25.538927700Z",
     "start_time": "2024-03-18T09:37:24.980241100Z"
    }
   },
   "id": "8807e1fec57c01bb",
   "execution_count": 5
  },
  {
   "cell_type": "code",
   "outputs": [
    {
     "name": "stdout",
     "output_type": "stream",
     "text": [
      "Number of missing values in each column: Case No                           0\n",
      "Operator Who Received Case        0\n",
      "Reported Condition                0\n",
      "Receive Date and Time (Badger)    0\n",
      "Receive Date (Badger)             0\n",
      "                                 ..\n",
      "2nd Consultation End Date Time    0\n",
      "Clinician Name                    0\n",
      "Received From                     0\n",
      "Site                              0\n",
      "Ext Case ID                       0\n",
      "Length: 63, dtype: int64\n"
     ]
    }
   ],
   "source": [
    "#To check for missing values \n",
    "missing_values = Data_filled.isnull().sum()\n",
    "print(F\"Number of missing values in each column: {missing_values}\")"
   ],
   "metadata": {
    "collapsed": false,
    "ExecuteTime": {
     "end_time": "2024-03-18T09:39:13.625888Z",
     "start_time": "2024-03-18T09:39:13.613555500Z"
    }
   },
   "id": "bf288b5c5824df17",
   "execution_count": 7
  },
  {
   "cell_type": "markdown",
   "source": [
    "Download the file "
   ],
   "metadata": {
    "collapsed": false
   },
   "id": "a1bd7a6f95da686d"
  },
  {
   "cell_type": "code",
   "outputs": [
    {
     "name": "stdout",
     "output_type": "stream",
     "text": [
      "All CSV files have been combined into C:/Users/Fredrick.Alli/OneDrive - Badger Medical/Demographic Data\\combined_data.csv.\n"
     ]
    }
   ],
   "source": [
    "import os\n",
    "\n",
    "# Specify the directory containing the CSV files\n",
    "directory = \"C:/Users/Fredrick.Alli/OneDrive - Badger Medical/Demographic Data\"\n",
    "\n",
    "# Specify the path for the combined CSV file\n",
    "combined_csv_path = os.path.join(directory, \"combined_data.csv\")\n",
    "\n",
    "# Save the combined data to a new CSV file\n",
    "Data_filled.to_csv(combined_csv_path, index=False)\n",
    "\n",
    "print(f\"All CSV files have been combined into {combined_csv_path}.\")"
   ],
   "metadata": {
    "collapsed": false,
    "ExecuteTime": {
     "end_time": "2024-03-18T09:42:56.924960100Z",
     "start_time": "2024-03-18T09:42:51.230739200Z"
    }
   },
   "id": "c94c2aa8c4512c6c",
   "execution_count": 10
  },
  {
   "cell_type": "markdown",
   "source": [
    "To clean data automatically"
   ],
   "metadata": {
    "collapsed": false
   },
   "id": "946033b36ef1d2c8"
  },
  {
   "cell_type": "markdown",
   "source": [
    "pip install py-Autoclean #This library cleans all your data automatically\n",
    "from AutoClean import Autoclean #it clrsns the data, remove duplicates, \n",
    "for example: pipeline = Autoclean(data)  #Pass the data through autoclean\n",
    "            pipeline.output.head()    #To print out the data\n",
    "            pipeline.output.info() #Shows the categorical data \n",
    "            "
   ],
   "metadata": {
    "collapsed": false
   },
   "id": "a73ab3546bd8c2db"
  },
  {
   "cell_type": "markdown",
   "source": [
    "pip install klib  #To install the library that automates data cleaning. \n",
    "mport klib\n",
    "import pandas as pd\n",
    "\n",
    "df = pd.DataFrame(data)\n",
    "\n",
    "# klib.describe - functions for visualizing datasets\n",
    "- klib.cat_plot(df) # returns a visualization of the number and frequency of categorical features\n",
    "- klib.corr_mat(df) # returns a color-encoded correlation matrix\n",
    "- klib.corr_plot(df) # returns a color-encoded heatmap, ideal for correlations\n",
    "- klib.corr_interactive_plot(df, split=\"neg\").show() # returns an interactive correlation plot using plotly\n",
    "- klib.dist_plot(df) # returns a distribution plot for every numeric feature\n",
    "- klib.missingval_plot(df) # returns a figure containing information about missing values\n",
    "\n",
    "# klib.clean - functions for cleaning datasets\n",
    "- klib.data_cleaning(df) # performs datacleaning (drop duplicates & empty rows/cols, adjust dtypes,...)\n",
    "- klib.clean_column_names(df) # cleans and standardizes column names, also called inside data_cleaning()\n",
    "- klib.convert_datatypes(df) # converts existing to more efficient dtypes, also called inside data_cleaning()\n",
    "- klib.drop_missing(df) # drops missing values, also called in data_cleaning()\n",
    "- klib.mv_col_handling(df) # drops features with high ratio of missing vals based on informational content\n",
    "- klib.pool_duplicate_subsets(df) # pools subset of cols based on duplicates with min. loss of information\n",
    "\n"
   ],
   "metadata": {
    "collapsed": false
   },
   "id": "501def2ba7ec46b4"
  }
 ],
 "metadata": {
  "kernelspec": {
   "display_name": "Python 3",
   "language": "python",
   "name": "python3"
  },
  "language_info": {
   "codemirror_mode": {
    "name": "ipython",
    "version": 2
   },
   "file_extension": ".py",
   "mimetype": "text/x-python",
   "name": "python",
   "nbconvert_exporter": "python",
   "pygments_lexer": "ipython2",
   "version": "2.7.6"
  }
 },
 "nbformat": 4,
 "nbformat_minor": 5
}
